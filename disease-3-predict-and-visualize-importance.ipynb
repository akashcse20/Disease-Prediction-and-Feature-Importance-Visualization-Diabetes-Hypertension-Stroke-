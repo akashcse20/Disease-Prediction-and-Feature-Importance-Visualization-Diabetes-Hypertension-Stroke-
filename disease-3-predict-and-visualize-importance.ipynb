{
 "cells": [
  {
   "cell_type": "markdown",
   "id": "0b782e9d",
   "metadata": {
    "papermill": {
     "duration": 0.009525,
     "end_time": "2022-11-24T13:42:41.166583",
     "exception": false,
     "start_time": "2022-11-24T13:42:41.157058",
     "status": "completed"
    },
    "tags": []
   },
   "source": [
    "# Disease 3 (Diabetes, Hypertension and Stroke) Predict and Visualize Importance"
   ]
  },
  {
   "cell_type": "code",
   "execution_count": 1,
   "id": "ab9445d7",
   "metadata": {
    "execution": {
     "iopub.execute_input": "2022-11-24T13:42:41.184321Z",
     "iopub.status.busy": "2022-11-24T13:42:41.183636Z",
     "iopub.status.idle": "2022-11-24T13:42:50.604932Z",
     "shell.execute_reply": "2022-11-24T13:42:50.603583Z"
    },
    "papermill": {
     "duration": 9.43378,
     "end_time": "2022-11-24T13:42:50.608044",
     "exception": false,
     "start_time": "2022-11-24T13:42:41.174264",
     "status": "completed"
    },
    "tags": []
   },
   "outputs": [
    {
     "data": {
      "text/html": [
       "<style type='text/css'>\n",
       ".datatable table.frame { margin-bottom: 0; }\n",
       ".datatable table.frame thead { border-bottom: none; }\n",
       ".datatable table.frame tr.coltypes td {  color: #FFFFFF;  line-height: 6px;  padding: 0 0.5em;}\n",
       ".datatable .bool    { background: #DDDD99; }\n",
       ".datatable .object  { background: #565656; }\n",
       ".datatable .int     { background: #5D9E5D; }\n",
       ".datatable .float   { background: #4040CC; }\n",
       ".datatable .str     { background: #CC4040; }\n",
       ".datatable .time    { background: #40CC40; }\n",
       ".datatable .row_index {  background: var(--jp-border-color3);  border-right: 1px solid var(--jp-border-color0);  color: var(--jp-ui-font-color3);  font-size: 9px;}\n",
       ".datatable .frame tbody td { text-align: left; }\n",
       ".datatable .frame tr.coltypes .row_index {  background: var(--jp-border-color0);}\n",
       ".datatable th:nth-child(2) { padding-left: 12px; }\n",
       ".datatable .hellipsis {  color: var(--jp-cell-editor-border-color);}\n",
       ".datatable .vellipsis {  background: var(--jp-layout-color0);  color: var(--jp-cell-editor-border-color);}\n",
       ".datatable .na {  color: var(--jp-cell-editor-border-color);  font-size: 80%;}\n",
       ".datatable .sp {  opacity: 0.25;}\n",
       ".datatable .footer { font-size: 9px; }\n",
       ".datatable .frame_dimensions {  background: var(--jp-border-color3);  border-top: 1px solid var(--jp-border-color0);  color: var(--jp-ui-font-color3);  display: inline-block;  opacity: 0.6;  padding: 1px 10px 1px 5px;}\n",
       "</style>\n"
      ],
      "text/plain": [
       "<IPython.core.display.HTML object>"
      ]
     },
     "metadata": {},
     "output_type": "display_data"
    }
   ],
   "source": [
    "import os\n",
    "import numpy as np\n",
    "import pandas as pd\n",
    "import random\n",
    "import matplotlib.pyplot as plt\n",
    "import seaborn as sns\n",
    "from contextlib import contextmanager\n",
    "from time import time\n",
    "from tqdm import tqdm\n",
    "import lightgbm as lgbm\n",
    "import category_encoders as ce\n",
    "from tensorflow.keras.utils import to_categorical\n",
    "from sklearn.metrics import classification_report, log_loss, accuracy_score\n",
    "from sklearn.metrics import mean_squared_error\n",
    "from sklearn.model_selection import KFold\n",
    "from imblearn.over_sampling import SMOTE"
   ]
  },
  {
   "cell_type": "markdown",
   "id": "db0db493",
   "metadata": {
    "papermill": {
     "duration": 0.007003,
     "end_time": "2022-11-24T13:42:50.622510",
     "exception": false,
     "start_time": "2022-11-24T13:42:50.615507",
     "status": "completed"
    },
    "tags": []
   },
   "source": [
    "# Data preparation"
   ]
  },
  {
   "cell_type": "code",
   "execution_count": 2,
   "id": "33da979f",
   "metadata": {
    "execution": {
     "iopub.execute_input": "2022-11-24T13:42:50.639448Z",
     "iopub.status.busy": "2022-11-24T13:42:50.638557Z",
     "iopub.status.idle": "2022-11-24T13:42:50.941318Z",
     "shell.execute_reply": "2022-11-24T13:42:50.940231Z"
    },
    "papermill": {
     "duration": 0.314556,
     "end_time": "2022-11-24T13:42:50.944350",
     "exception": false,
     "start_time": "2022-11-24T13:42:50.629794",
     "status": "completed"
    },
    "tags": []
   },
   "outputs": [
    {
     "data": {
      "text/html": [
       "<div>\n",
       "<style scoped>\n",
       "    .dataframe tbody tr th:only-of-type {\n",
       "        vertical-align: middle;\n",
       "    }\n",
       "\n",
       "    .dataframe tbody tr th {\n",
       "        vertical-align: top;\n",
       "    }\n",
       "\n",
       "    .dataframe thead th {\n",
       "        text-align: right;\n",
       "    }\n",
       "</style>\n",
       "<table border=\"1\" class=\"dataframe\">\n",
       "  <thead>\n",
       "    <tr style=\"text-align: right;\">\n",
       "      <th></th>\n",
       "      <th>0</th>\n",
       "      <th>1</th>\n",
       "    </tr>\n",
       "  </thead>\n",
       "  <tbody>\n",
       "    <tr>\n",
       "      <th>Age</th>\n",
       "      <td>4.0</td>\n",
       "      <td>12.0</td>\n",
       "    </tr>\n",
       "    <tr>\n",
       "      <th>Sex</th>\n",
       "      <td>1.0</td>\n",
       "      <td>1.0</td>\n",
       "    </tr>\n",
       "    <tr>\n",
       "      <th>HighChol</th>\n",
       "      <td>0.0</td>\n",
       "      <td>1.0</td>\n",
       "    </tr>\n",
       "    <tr>\n",
       "      <th>CholCheck</th>\n",
       "      <td>1.0</td>\n",
       "      <td>1.0</td>\n",
       "    </tr>\n",
       "    <tr>\n",
       "      <th>BMI</th>\n",
       "      <td>26.0</td>\n",
       "      <td>26.0</td>\n",
       "    </tr>\n",
       "    <tr>\n",
       "      <th>Smoker</th>\n",
       "      <td>0.0</td>\n",
       "      <td>1.0</td>\n",
       "    </tr>\n",
       "    <tr>\n",
       "      <th>HeartDiseaseorAttack</th>\n",
       "      <td>0.0</td>\n",
       "      <td>0.0</td>\n",
       "    </tr>\n",
       "    <tr>\n",
       "      <th>PhysActivity</th>\n",
       "      <td>1.0</td>\n",
       "      <td>0.0</td>\n",
       "    </tr>\n",
       "    <tr>\n",
       "      <th>Fruits</th>\n",
       "      <td>0.0</td>\n",
       "      <td>1.0</td>\n",
       "    </tr>\n",
       "    <tr>\n",
       "      <th>Veggies</th>\n",
       "      <td>1.0</td>\n",
       "      <td>0.0</td>\n",
       "    </tr>\n",
       "    <tr>\n",
       "      <th>HvyAlcoholConsump</th>\n",
       "      <td>0.0</td>\n",
       "      <td>0.0</td>\n",
       "    </tr>\n",
       "    <tr>\n",
       "      <th>GenHlth</th>\n",
       "      <td>3.0</td>\n",
       "      <td>3.0</td>\n",
       "    </tr>\n",
       "    <tr>\n",
       "      <th>MentHlth</th>\n",
       "      <td>5.0</td>\n",
       "      <td>0.0</td>\n",
       "    </tr>\n",
       "    <tr>\n",
       "      <th>PhysHlth</th>\n",
       "      <td>30.0</td>\n",
       "      <td>0.0</td>\n",
       "    </tr>\n",
       "    <tr>\n",
       "      <th>DiffWalk</th>\n",
       "      <td>0.0</td>\n",
       "      <td>0.0</td>\n",
       "    </tr>\n",
       "    <tr>\n",
       "      <th>Diabetes</th>\n",
       "      <td>0.0</td>\n",
       "      <td>0.0</td>\n",
       "    </tr>\n",
       "    <tr>\n",
       "      <th>Hypertension</th>\n",
       "      <td>1.0</td>\n",
       "      <td>1.0</td>\n",
       "    </tr>\n",
       "    <tr>\n",
       "      <th>Stroke</th>\n",
       "      <td>0.0</td>\n",
       "      <td>1.0</td>\n",
       "    </tr>\n",
       "  </tbody>\n",
       "</table>\n",
       "</div>"
      ],
      "text/plain": [
       "                         0     1\n",
       "Age                    4.0  12.0\n",
       "Sex                    1.0   1.0\n",
       "HighChol               0.0   1.0\n",
       "CholCheck              1.0   1.0\n",
       "BMI                   26.0  26.0\n",
       "Smoker                 0.0   1.0\n",
       "HeartDiseaseorAttack   0.0   0.0\n",
       "PhysActivity           1.0   0.0\n",
       "Fruits                 0.0   1.0\n",
       "Veggies                1.0   0.0\n",
       "HvyAlcoholConsump      0.0   0.0\n",
       "GenHlth                3.0   3.0\n",
       "MentHlth               5.0   0.0\n",
       "PhysHlth              30.0   0.0\n",
       "DiffWalk               0.0   0.0\n",
       "Diabetes               0.0   0.0\n",
       "Hypertension           1.0   1.0\n",
       "Stroke                 0.0   1.0"
      ]
     },
     "metadata": {},
     "output_type": "display_data"
    }
   ],
   "source": [
    "data0 = pd.read_csv(\"/kaggle/input/health-dataset/health_data.csv\")\n",
    "display(data0[0:2].T)"
   ]
  },
  {
   "cell_type": "code",
   "execution_count": 3,
   "id": "703fd848",
   "metadata": {
    "execution": {
     "iopub.execute_input": "2022-11-24T13:42:50.962115Z",
     "iopub.status.busy": "2022-11-24T13:42:50.961675Z",
     "iopub.status.idle": "2022-11-24T13:42:50.968239Z",
     "shell.execute_reply": "2022-11-24T13:42:50.967067Z"
    },
    "papermill": {
     "duration": 0.018611,
     "end_time": "2022-11-24T13:42:50.970823",
     "exception": false,
     "start_time": "2022-11-24T13:42:50.952212",
     "status": "completed"
    },
    "tags": []
   },
   "outputs": [],
   "source": [
    "from sklearn.preprocessing import LabelEncoder\n",
    "\n",
    "def labelencoder(df):\n",
    "    for c in df.columns:\n",
    "        if df[c].dtype=='object': \n",
    "            df[c] = df[c].fillna('N')\n",
    "            lbl = LabelEncoder()\n",
    "            lbl.fit(list(df[c].values))\n",
    "            df[c] = lbl.transform(df[c].values)\n",
    "    return df"
   ]
  },
  {
   "cell_type": "code",
   "execution_count": 4,
   "id": "063a5dad",
   "metadata": {
    "execution": {
     "iopub.execute_input": "2022-11-24T13:42:50.991081Z",
     "iopub.status.busy": "2022-11-24T13:42:50.989228Z",
     "iopub.status.idle": "2022-11-24T13:42:51.002151Z",
     "shell.execute_reply": "2022-11-24T13:42:51.001118Z"
    },
    "papermill": {
     "duration": 0.026411,
     "end_time": "2022-11-24T13:42:51.004764",
     "exception": false,
     "start_time": "2022-11-24T13:42:50.978353",
     "status": "completed"
    },
    "tags": []
   },
   "outputs": [],
   "source": [
    "data1=labelencoder(data0.iloc[:,1:])"
   ]
  },
  {
   "cell_type": "markdown",
   "id": "fe71c3c0",
   "metadata": {
    "papermill": {
     "duration": 0.007387,
     "end_time": "2022-11-24T13:42:51.020010",
     "exception": false,
     "start_time": "2022-11-24T13:42:51.012623",
     "status": "completed"
    },
    "tags": []
   },
   "source": [
    "# Target setting"
   ]
  },
  {
   "cell_type": "code",
   "execution_count": 5,
   "id": "3459f019",
   "metadata": {
    "execution": {
     "iopub.execute_input": "2022-11-24T13:42:51.037299Z",
     "iopub.status.busy": "2022-11-24T13:42:51.036667Z",
     "iopub.status.idle": "2022-11-24T13:42:51.053128Z",
     "shell.execute_reply": "2022-11-24T13:42:51.052074Z"
    },
    "papermill": {
     "duration": 0.028159,
     "end_time": "2022-11-24T13:42:51.055657",
     "exception": false,
     "start_time": "2022-11-24T13:42:51.027498",
     "status": "completed"
    },
    "tags": []
   },
   "outputs": [],
   "source": [
    "target=['Diabetes','Hypertension','Stroke']\n",
    "dataY=data1[target]\n",
    "dataX=data1.drop(target,axis=1)"
   ]
  },
  {
   "cell_type": "code",
   "execution_count": 6,
   "id": "d4788cab",
   "metadata": {
    "execution": {
     "iopub.execute_input": "2022-11-24T13:42:51.073236Z",
     "iopub.status.busy": "2022-11-24T13:42:51.072587Z",
     "iopub.status.idle": "2022-11-24T13:42:51.079217Z",
     "shell.execute_reply": "2022-11-24T13:42:51.077640Z"
    },
    "papermill": {
     "duration": 0.018608,
     "end_time": "2022-11-24T13:42:51.081828",
     "exception": false,
     "start_time": "2022-11-24T13:42:51.063220",
     "status": "completed"
    },
    "tags": []
   },
   "outputs": [
    {
     "name": "stdout",
     "output_type": "stream",
     "text": [
      "['Sex', 'HighChol', 'CholCheck', 'BMI', 'Smoker', 'HeartDiseaseorAttack', 'PhysActivity', 'Fruits', 'Veggies', 'HvyAlcoholConsump', 'GenHlth', 'MentHlth', 'PhysHlth', 'DiffWalk']\n"
     ]
    }
   ],
   "source": [
    "df_columns = list(dataX.columns)\n",
    "print(df_columns)"
   ]
  },
  {
   "cell_type": "code",
   "execution_count": 7,
   "id": "aff185ab",
   "metadata": {
    "execution": {
     "iopub.execute_input": "2022-11-24T13:42:51.099427Z",
     "iopub.status.busy": "2022-11-24T13:42:51.098995Z",
     "iopub.status.idle": "2022-11-24T13:42:51.217431Z",
     "shell.execute_reply": "2022-11-24T13:42:51.215662Z"
    },
    "papermill": {
     "duration": 0.131387,
     "end_time": "2022-11-24T13:42:51.221073",
     "exception": false,
     "start_time": "2022-11-24T13:42:51.089686",
     "status": "completed"
    },
    "tags": []
   },
   "outputs": [
    {
     "name": "stdout",
     "output_type": "stream",
     "text": [
      "70692\n"
     ]
    }
   ],
   "source": [
    "m=len(dataX)\n",
    "print(m)\n",
    "M=list(range(m))\n",
    "random.seed(2021)\n",
    "random.shuffle(M)\n",
    "\n",
    "trainX=dataX.iloc[M[0:(m//4)*3]]\n",
    "trainY=dataY.iloc[M[0:(m//4)*3]]\n",
    "testX=dataX.iloc[M[(m//4)*3:]]\n",
    "testY=dataY.iloc[M[(m//4)*3:]]"
   ]
  },
  {
   "cell_type": "code",
   "execution_count": 8,
   "id": "3363d35d",
   "metadata": {
    "execution": {
     "iopub.execute_input": "2022-11-24T13:42:51.239186Z",
     "iopub.status.busy": "2022-11-24T13:42:51.238769Z",
     "iopub.status.idle": "2022-11-24T13:42:51.243458Z",
     "shell.execute_reply": "2022-11-24T13:42:51.242310Z"
    },
    "papermill": {
     "duration": 0.016144,
     "end_time": "2022-11-24T13:42:51.245715",
     "exception": false,
     "start_time": "2022-11-24T13:42:51.229571",
     "status": "completed"
    },
    "tags": []
   },
   "outputs": [],
   "source": [
    "train_df=trainX\n",
    "test_df=testX"
   ]
  },
  {
   "cell_type": "code",
   "execution_count": 9,
   "id": "0dce020c",
   "metadata": {
    "execution": {
     "iopub.execute_input": "2022-11-24T13:42:51.263503Z",
     "iopub.status.busy": "2022-11-24T13:42:51.263077Z",
     "iopub.status.idle": "2022-11-24T13:42:51.268137Z",
     "shell.execute_reply": "2022-11-24T13:42:51.267094Z"
    },
    "papermill": {
     "duration": 0.016744,
     "end_time": "2022-11-24T13:42:51.270437",
     "exception": false,
     "start_time": "2022-11-24T13:42:51.253693",
     "status": "completed"
    },
    "tags": []
   },
   "outputs": [],
   "source": [
    "train_df.columns=df_columns\n",
    "test_df.columns=df_columns"
   ]
  },
  {
   "cell_type": "code",
   "execution_count": 10,
   "id": "41d8b4ee",
   "metadata": {
    "execution": {
     "iopub.execute_input": "2022-11-24T13:42:51.288004Z",
     "iopub.status.busy": "2022-11-24T13:42:51.287595Z",
     "iopub.status.idle": "2022-11-24T13:42:51.292679Z",
     "shell.execute_reply": "2022-11-24T13:42:51.291564Z"
    },
    "papermill": {
     "duration": 0.016917,
     "end_time": "2022-11-24T13:42:51.294987",
     "exception": false,
     "start_time": "2022-11-24T13:42:51.278070",
     "status": "completed"
    },
    "tags": []
   },
   "outputs": [],
   "source": [
    "def create_numeric_feature(input_df):\n",
    "    use_columns = df_columns \n",
    "    return input_df[use_columns].copy()"
   ]
  },
  {
   "cell_type": "code",
   "execution_count": 11,
   "id": "6e5842d1",
   "metadata": {
    "execution": {
     "iopub.execute_input": "2022-11-24T13:42:51.313725Z",
     "iopub.status.busy": "2022-11-24T13:42:51.312458Z",
     "iopub.status.idle": "2022-11-24T13:42:51.325473Z",
     "shell.execute_reply": "2022-11-24T13:42:51.324493Z"
    },
    "papermill": {
     "duration": 0.025289,
     "end_time": "2022-11-24T13:42:51.328235",
     "exception": false,
     "start_time": "2022-11-24T13:42:51.302946",
     "status": "completed"
    },
    "tags": []
   },
   "outputs": [],
   "source": [
    "from contextlib import contextmanager\n",
    "from time import time\n",
    "\n",
    "class Timer:\n",
    "    def __init__(self, logger=None, format_str='{:.3f}[s]', prefix=None, suffix=None, sep=' '):\n",
    "\n",
    "        if prefix: format_str = str(prefix) + sep + format_str\n",
    "        if suffix: format_str = format_str + sep + str(suffix)\n",
    "        self.format_str = format_str\n",
    "        self.logger = logger\n",
    "        self.start = None\n",
    "        self.end = None\n",
    "\n",
    "    @property\n",
    "    def duration(self):\n",
    "        if self.end is None:\n",
    "            return 0\n",
    "        return self.end - self.start\n",
    "\n",
    "    def __enter__(self):\n",
    "        self.start = time()\n",
    "\n",
    "    def __exit__(self, exc_type, exc_val, exc_tb):\n",
    "        self.end = time()\n",
    "        out_str = self.format_str.format(self.duration)\n",
    "        if self.logger:\n",
    "            self.logger.info(out_str)\n",
    "        else:\n",
    "            print(out_str)"
   ]
  },
  {
   "cell_type": "code",
   "execution_count": 12,
   "id": "e17193ad",
   "metadata": {
    "execution": {
     "iopub.execute_input": "2022-11-24T13:42:51.346363Z",
     "iopub.status.busy": "2022-11-24T13:42:51.345082Z",
     "iopub.status.idle": "2022-11-24T13:42:51.352782Z",
     "shell.execute_reply": "2022-11-24T13:42:51.351664Z"
    },
    "papermill": {
     "duration": 0.019434,
     "end_time": "2022-11-24T13:42:51.355486",
     "exception": false,
     "start_time": "2022-11-24T13:42:51.336052",
     "status": "completed"
    },
    "tags": []
   },
   "outputs": [],
   "source": [
    "from tqdm import tqdm\n",
    "\n",
    "def to_feature(input_df):\n",
    "\n",
    "    processors = [\n",
    "        create_numeric_feature,\n",
    "    ]\n",
    "    \n",
    "    out_df = pd.DataFrame()\n",
    "    \n",
    "    for func in tqdm(processors, total=len(processors)):\n",
    "        with Timer(prefix='create' + func.__name__ + ' '):\n",
    "            _df = func(input_df)\n",
    "\n",
    "        assert len(_df) == len(input_df), func.__name__\n",
    "        out_df = pd.concat([out_df, _df], axis=1)\n",
    "        \n",
    "    return out_df"
   ]
  },
  {
   "cell_type": "code",
   "execution_count": 13,
   "id": "7b6c31a5",
   "metadata": {
    "execution": {
     "iopub.execute_input": "2022-11-24T13:42:51.372982Z",
     "iopub.status.busy": "2022-11-24T13:42:51.372607Z",
     "iopub.status.idle": "2022-11-24T13:42:51.408207Z",
     "shell.execute_reply": "2022-11-24T13:42:51.407007Z"
    },
    "papermill": {
     "duration": 0.048304,
     "end_time": "2022-11-24T13:42:51.411715",
     "exception": false,
     "start_time": "2022-11-24T13:42:51.363411",
     "status": "completed"
    },
    "tags": []
   },
   "outputs": [
    {
     "name": "stderr",
     "output_type": "stream",
     "text": [
      "100%|██████████| 1/1 [00:00<00:00, 81.31it/s]\n"
     ]
    },
    {
     "name": "stdout",
     "output_type": "stream",
     "text": [
      "createcreate_numeric_feature  0.009[s]\n"
     ]
    },
    {
     "name": "stderr",
     "output_type": "stream",
     "text": [
      "100%|██████████| 1/1 [00:00<00:00, 135.83it/s]"
     ]
    },
    {
     "name": "stdout",
     "output_type": "stream",
     "text": [
      "createcreate_numeric_feature  0.006[s]\n"
     ]
    },
    {
     "name": "stderr",
     "output_type": "stream",
     "text": [
      "\n"
     ]
    }
   ],
   "source": [
    "train_feat_df = to_feature(train_df)\n",
    "test_feat_df = to_feature(test_df)"
   ]
  },
  {
   "cell_type": "markdown",
   "id": "fe6c7b12",
   "metadata": {
    "papermill": {
     "duration": 0.007943,
     "end_time": "2022-11-24T13:42:51.427865",
     "exception": false,
     "start_time": "2022-11-24T13:42:51.419922",
     "status": "completed"
    },
    "tags": []
   },
   "source": [
    "# Model"
   ]
  },
  {
   "cell_type": "code",
   "execution_count": 14,
   "id": "a1d2d2e0",
   "metadata": {
    "execution": {
     "iopub.execute_input": "2022-11-24T13:42:51.448188Z",
     "iopub.status.busy": "2022-11-24T13:42:51.447472Z",
     "iopub.status.idle": "2022-11-24T13:42:51.463835Z",
     "shell.execute_reply": "2022-11-24T13:42:51.462675Z"
    },
    "papermill": {
     "duration": 0.030277,
     "end_time": "2022-11-24T13:42:51.466802",
     "exception": false,
     "start_time": "2022-11-24T13:42:51.436525",
     "status": "completed"
    },
    "tags": []
   },
   "outputs": [],
   "source": [
    "import lightgbm as lgbm\n",
    "from sklearn.metrics import mean_squared_error\n",
    "\n",
    "def fit_lgbm(X, y, cv, \n",
    "             params: dict=None, \n",
    "             verbose: int=50):\n",
    "\n",
    "    if params is None:\n",
    "        params = {}\n",
    "\n",
    "    models = []\n",
    "    oof_pred = np.zeros_like(y, dtype=np.float)\n",
    "\n",
    "    for i, (idx_train, idx_valid) in enumerate(cv): \n",
    "        x_train, y_train = X[idx_train], y[idx_train]\n",
    "        x_valid, y_valid = X[idx_valid], y[idx_valid]\n",
    "\n",
    "        clf = lgbm.LGBMRegressor(**params)\n",
    "        \n",
    "        with Timer(prefix='fit fold={} '.format(i)):\n",
    "            clf.fit(x_train, y_train, \n",
    "                    eval_set=[(x_valid, y_valid)],  \n",
    "                    early_stopping_rounds=100,\n",
    "                    verbose=verbose)\n",
    "\n",
    "        pred_i = clf.predict(x_valid)\n",
    "        oof_pred[idx_valid] = pred_i\n",
    "        models.append(clf)\n",
    "        print(f'Fold {i} RMSLE: {mean_squared_error(y_valid, pred_i) ** .5:.4f}')\n",
    "        print()\n",
    "\n",
    "    score = mean_squared_error(y, oof_pred) ** .5\n",
    "    print('-' * 50)\n",
    "    print('FINISHED | Whole RMSLE: {:.4f}'.format(score))\n",
    "    return oof_pred, models"
   ]
  },
  {
   "cell_type": "code",
   "execution_count": 15,
   "id": "955747a8",
   "metadata": {
    "execution": {
     "iopub.execute_input": "2022-11-24T13:42:51.486062Z",
     "iopub.status.busy": "2022-11-24T13:42:51.485638Z",
     "iopub.status.idle": "2022-11-24T13:42:51.492448Z",
     "shell.execute_reply": "2022-11-24T13:42:51.491095Z"
    },
    "papermill": {
     "duration": 0.020021,
     "end_time": "2022-11-24T13:42:51.495405",
     "exception": false,
     "start_time": "2022-11-24T13:42:51.475384",
     "status": "completed"
    },
    "tags": []
   },
   "outputs": [],
   "source": [
    "params = {\n",
    "    'objective': 'rmse', \n",
    "    'learning_rate': .1,\n",
    "    'reg_lambda': 1.,\n",
    "    'reg_alpha': .1,\n",
    "    'max_depth': 5, \n",
    "    'n_estimators': 10000, \n",
    "    'colsample_bytree': .5, \n",
    "    'min_child_samples': 10,\n",
    "    'subsample_freq': 3,\n",
    "    'subsample': .9,\n",
    "    'importance_type': 'gain', \n",
    "    'random_state': 71,\n",
    "    'num_leaves': 62\n",
    "}"
   ]
  },
  {
   "cell_type": "code",
   "execution_count": 16,
   "id": "e94bf424",
   "metadata": {
    "execution": {
     "iopub.execute_input": "2022-11-24T13:42:51.514226Z",
     "iopub.status.busy": "2022-11-24T13:42:51.513739Z",
     "iopub.status.idle": "2022-11-24T13:42:51.527010Z",
     "shell.execute_reply": "2022-11-24T13:42:51.525715Z"
    },
    "papermill": {
     "duration": 0.025222,
     "end_time": "2022-11-24T13:42:51.529313",
     "exception": false,
     "start_time": "2022-11-24T13:42:51.504091",
     "status": "completed"
    },
    "tags": []
   },
   "outputs": [
    {
     "data": {
      "text/html": [
       "<div>\n",
       "<style scoped>\n",
       "    .dataframe tbody tr th:only-of-type {\n",
       "        vertical-align: middle;\n",
       "    }\n",
       "\n",
       "    .dataframe tbody tr th {\n",
       "        vertical-align: top;\n",
       "    }\n",
       "\n",
       "    .dataframe thead th {\n",
       "        text-align: right;\n",
       "    }\n",
       "</style>\n",
       "<table border=\"1\" class=\"dataframe\">\n",
       "  <thead>\n",
       "    <tr style=\"text-align: right;\">\n",
       "      <th></th>\n",
       "      <th>Diabetes</th>\n",
       "      <th>Hypertension</th>\n",
       "      <th>Stroke</th>\n",
       "    </tr>\n",
       "  </thead>\n",
       "  <tbody>\n",
       "    <tr>\n",
       "      <th>8880</th>\n",
       "      <td>0.0</td>\n",
       "      <td>0.0</td>\n",
       "      <td>0.0</td>\n",
       "    </tr>\n",
       "    <tr>\n",
       "      <th>61230</th>\n",
       "      <td>1.0</td>\n",
       "      <td>1.0</td>\n",
       "      <td>0.0</td>\n",
       "    </tr>\n",
       "    <tr>\n",
       "      <th>4488</th>\n",
       "      <td>0.0</td>\n",
       "      <td>0.0</td>\n",
       "      <td>0.0</td>\n",
       "    </tr>\n",
       "    <tr>\n",
       "      <th>44519</th>\n",
       "      <td>1.0</td>\n",
       "      <td>1.0</td>\n",
       "      <td>0.0</td>\n",
       "    </tr>\n",
       "    <tr>\n",
       "      <th>66041</th>\n",
       "      <td>1.0</td>\n",
       "      <td>1.0</td>\n",
       "      <td>0.0</td>\n",
       "    </tr>\n",
       "  </tbody>\n",
       "</table>\n",
       "</div>"
      ],
      "text/plain": [
       "       Diabetes  Hypertension  Stroke\n",
       "8880        0.0           0.0     0.0\n",
       "61230       1.0           1.0     0.0\n",
       "4488        0.0           0.0     0.0\n",
       "44519       1.0           1.0     0.0\n",
       "66041       1.0           1.0     0.0"
      ]
     },
     "execution_count": 16,
     "metadata": {},
     "output_type": "execute_result"
    }
   ],
   "source": [
    "y = trainY\n",
    "ydf=pd.DataFrame(y)\n",
    "ydf[0:5]"
   ]
  },
  {
   "cell_type": "code",
   "execution_count": 17,
   "id": "15a3ec13",
   "metadata": {
    "execution": {
     "iopub.execute_input": "2022-11-24T13:42:51.549118Z",
     "iopub.status.busy": "2022-11-24T13:42:51.548748Z",
     "iopub.status.idle": "2022-11-24T13:43:04.369151Z",
     "shell.execute_reply": "2022-11-24T13:43:04.367824Z"
    },
    "papermill": {
     "duration": 12.834135,
     "end_time": "2022-11-24T13:43:04.372094",
     "exception": false,
     "start_time": "2022-11-24T13:42:51.537959",
     "status": "completed"
    },
    "tags": []
   },
   "outputs": [
    {
     "name": "stderr",
     "output_type": "stream",
     "text": [
      "/opt/conda/lib/python3.7/site-packages/ipykernel_launcher.py:12: DeprecationWarning: `np.float` is a deprecated alias for the builtin `float`. To silence this warning, use `float` by itself. Doing this will not modify any behavior and is safe. If you specifically wanted the numpy scalar type, use `np.float64` here.\n",
      "Deprecated in NumPy 1.20; for more details and guidance: https://numpy.org/devdocs/release/1.20.0-notes.html#deprecations\n",
      "  if sys.path[0] == \"\":\n",
      "/opt/conda/lib/python3.7/site-packages/lightgbm/sklearn.py:726: UserWarning: 'early_stopping_rounds' argument is deprecated and will be removed in a future release of LightGBM. Pass 'early_stopping()' callback via 'callbacks' argument instead.\n",
      "  _log_warning(\"'early_stopping_rounds' argument is deprecated and will be removed in a future release of LightGBM. \"\n",
      "/opt/conda/lib/python3.7/site-packages/lightgbm/sklearn.py:736: UserWarning: 'verbose' argument is deprecated and will be removed in a future release of LightGBM. Pass 'log_evaluation()' callback via 'callbacks' argument instead.\n",
      "  _log_warning(\"'verbose' argument is deprecated and will be removed in a future release of LightGBM. \"\n"
     ]
    },
    {
     "name": "stdout",
     "output_type": "stream",
     "text": [
      "fit fold=0  0.919[s]\n",
      "Fold 0 RMSLE: 0.4230\n",
      "\n"
     ]
    },
    {
     "name": "stderr",
     "output_type": "stream",
     "text": [
      "/opt/conda/lib/python3.7/site-packages/lightgbm/sklearn.py:726: UserWarning: 'early_stopping_rounds' argument is deprecated and will be removed in a future release of LightGBM. Pass 'early_stopping()' callback via 'callbacks' argument instead.\n",
      "  _log_warning(\"'early_stopping_rounds' argument is deprecated and will be removed in a future release of LightGBM. \"\n",
      "/opt/conda/lib/python3.7/site-packages/lightgbm/sklearn.py:736: UserWarning: 'verbose' argument is deprecated and will be removed in a future release of LightGBM. Pass 'log_evaluation()' callback via 'callbacks' argument instead.\n",
      "  _log_warning(\"'verbose' argument is deprecated and will be removed in a future release of LightGBM. \"\n"
     ]
    },
    {
     "name": "stdout",
     "output_type": "stream",
     "text": [
      "fit fold=1  0.761[s]\n",
      "Fold 1 RMSLE: 0.4243\n",
      "\n"
     ]
    },
    {
     "name": "stderr",
     "output_type": "stream",
     "text": [
      "/opt/conda/lib/python3.7/site-packages/lightgbm/sklearn.py:726: UserWarning: 'early_stopping_rounds' argument is deprecated and will be removed in a future release of LightGBM. Pass 'early_stopping()' callback via 'callbacks' argument instead.\n",
      "  _log_warning(\"'early_stopping_rounds' argument is deprecated and will be removed in a future release of LightGBM. \"\n",
      "/opt/conda/lib/python3.7/site-packages/lightgbm/sklearn.py:736: UserWarning: 'verbose' argument is deprecated and will be removed in a future release of LightGBM. Pass 'log_evaluation()' callback via 'callbacks' argument instead.\n",
      "  _log_warning(\"'verbose' argument is deprecated and will be removed in a future release of LightGBM. \"\n"
     ]
    },
    {
     "name": "stdout",
     "output_type": "stream",
     "text": [
      "fit fold=2  0.862[s]\n",
      "Fold 2 RMSLE: 0.4199\n",
      "\n"
     ]
    },
    {
     "name": "stderr",
     "output_type": "stream",
     "text": [
      "/opt/conda/lib/python3.7/site-packages/lightgbm/sklearn.py:726: UserWarning: 'early_stopping_rounds' argument is deprecated and will be removed in a future release of LightGBM. Pass 'early_stopping()' callback via 'callbacks' argument instead.\n",
      "  _log_warning(\"'early_stopping_rounds' argument is deprecated and will be removed in a future release of LightGBM. \"\n",
      "/opt/conda/lib/python3.7/site-packages/lightgbm/sklearn.py:736: UserWarning: 'verbose' argument is deprecated and will be removed in a future release of LightGBM. Pass 'log_evaluation()' callback via 'callbacks' argument instead.\n",
      "  _log_warning(\"'verbose' argument is deprecated and will be removed in a future release of LightGBM. \"\n"
     ]
    },
    {
     "name": "stdout",
     "output_type": "stream",
     "text": [
      "fit fold=3  0.957[s]\n",
      "Fold 3 RMSLE: 0.4268\n",
      "\n"
     ]
    },
    {
     "name": "stderr",
     "output_type": "stream",
     "text": [
      "/opt/conda/lib/python3.7/site-packages/lightgbm/sklearn.py:726: UserWarning: 'early_stopping_rounds' argument is deprecated and will be removed in a future release of LightGBM. Pass 'early_stopping()' callback via 'callbacks' argument instead.\n",
      "  _log_warning(\"'early_stopping_rounds' argument is deprecated and will be removed in a future release of LightGBM. \"\n",
      "/opt/conda/lib/python3.7/site-packages/lightgbm/sklearn.py:736: UserWarning: 'verbose' argument is deprecated and will be removed in a future release of LightGBM. Pass 'log_evaluation()' callback via 'callbacks' argument instead.\n",
      "  _log_warning(\"'verbose' argument is deprecated and will be removed in a future release of LightGBM. \"\n"
     ]
    },
    {
     "name": "stdout",
     "output_type": "stream",
     "text": [
      "fit fold=4  0.819[s]\n",
      "Fold 4 RMSLE: 0.4247\n",
      "\n",
      "--------------------------------------------------\n",
      "FINISHED | Whole RMSLE: 0.4238\n"
     ]
    },
    {
     "name": "stderr",
     "output_type": "stream",
     "text": [
      "/opt/conda/lib/python3.7/site-packages/ipykernel_launcher.py:12: DeprecationWarning: `np.float` is a deprecated alias for the builtin `float`. To silence this warning, use `float` by itself. Doing this will not modify any behavior and is safe. If you specifically wanted the numpy scalar type, use `np.float64` here.\n",
      "Deprecated in NumPy 1.20; for more details and guidance: https://numpy.org/devdocs/release/1.20.0-notes.html#deprecations\n",
      "  if sys.path[0] == \"\":\n",
      "/opt/conda/lib/python3.7/site-packages/lightgbm/sklearn.py:726: UserWarning: 'early_stopping_rounds' argument is deprecated and will be removed in a future release of LightGBM. Pass 'early_stopping()' callback via 'callbacks' argument instead.\n",
      "  _log_warning(\"'early_stopping_rounds' argument is deprecated and will be removed in a future release of LightGBM. \"\n",
      "/opt/conda/lib/python3.7/site-packages/lightgbm/sklearn.py:736: UserWarning: 'verbose' argument is deprecated and will be removed in a future release of LightGBM. Pass 'log_evaluation()' callback via 'callbacks' argument instead.\n",
      "  _log_warning(\"'verbose' argument is deprecated and will be removed in a future release of LightGBM. \"\n"
     ]
    },
    {
     "name": "stdout",
     "output_type": "stream",
     "text": [
      "fit fold=0  0.794[s]\n",
      "Fold 0 RMSLE: 0.4342\n",
      "\n"
     ]
    },
    {
     "name": "stderr",
     "output_type": "stream",
     "text": [
      "/opt/conda/lib/python3.7/site-packages/lightgbm/sklearn.py:726: UserWarning: 'early_stopping_rounds' argument is deprecated and will be removed in a future release of LightGBM. Pass 'early_stopping()' callback via 'callbacks' argument instead.\n",
      "  _log_warning(\"'early_stopping_rounds' argument is deprecated and will be removed in a future release of LightGBM. \"\n",
      "/opt/conda/lib/python3.7/site-packages/lightgbm/sklearn.py:736: UserWarning: 'verbose' argument is deprecated and will be removed in a future release of LightGBM. Pass 'log_evaluation()' callback via 'callbacks' argument instead.\n",
      "  _log_warning(\"'verbose' argument is deprecated and will be removed in a future release of LightGBM. \"\n"
     ]
    },
    {
     "name": "stdout",
     "output_type": "stream",
     "text": [
      "fit fold=1  0.689[s]\n",
      "Fold 1 RMSLE: 0.4401\n",
      "\n"
     ]
    },
    {
     "name": "stderr",
     "output_type": "stream",
     "text": [
      "/opt/conda/lib/python3.7/site-packages/lightgbm/sklearn.py:726: UserWarning: 'early_stopping_rounds' argument is deprecated and will be removed in a future release of LightGBM. Pass 'early_stopping()' callback via 'callbacks' argument instead.\n",
      "  _log_warning(\"'early_stopping_rounds' argument is deprecated and will be removed in a future release of LightGBM. \"\n",
      "/opt/conda/lib/python3.7/site-packages/lightgbm/sklearn.py:736: UserWarning: 'verbose' argument is deprecated and will be removed in a future release of LightGBM. Pass 'log_evaluation()' callback via 'callbacks' argument instead.\n",
      "  _log_warning(\"'verbose' argument is deprecated and will be removed in a future release of LightGBM. \"\n"
     ]
    },
    {
     "name": "stdout",
     "output_type": "stream",
     "text": [
      "fit fold=2  0.754[s]\n",
      "Fold 2 RMSLE: 0.4361\n",
      "\n"
     ]
    },
    {
     "name": "stderr",
     "output_type": "stream",
     "text": [
      "/opt/conda/lib/python3.7/site-packages/lightgbm/sklearn.py:726: UserWarning: 'early_stopping_rounds' argument is deprecated and will be removed in a future release of LightGBM. Pass 'early_stopping()' callback via 'callbacks' argument instead.\n",
      "  _log_warning(\"'early_stopping_rounds' argument is deprecated and will be removed in a future release of LightGBM. \"\n",
      "/opt/conda/lib/python3.7/site-packages/lightgbm/sklearn.py:736: UserWarning: 'verbose' argument is deprecated and will be removed in a future release of LightGBM. Pass 'log_evaluation()' callback via 'callbacks' argument instead.\n",
      "  _log_warning(\"'verbose' argument is deprecated and will be removed in a future release of LightGBM. \"\n"
     ]
    },
    {
     "name": "stdout",
     "output_type": "stream",
     "text": [
      "fit fold=3  0.812[s]\n",
      "Fold 3 RMSLE: 0.4353\n",
      "\n"
     ]
    },
    {
     "name": "stderr",
     "output_type": "stream",
     "text": [
      "/opt/conda/lib/python3.7/site-packages/lightgbm/sklearn.py:726: UserWarning: 'early_stopping_rounds' argument is deprecated and will be removed in a future release of LightGBM. Pass 'early_stopping()' callback via 'callbacks' argument instead.\n",
      "  _log_warning(\"'early_stopping_rounds' argument is deprecated and will be removed in a future release of LightGBM. \"\n",
      "/opt/conda/lib/python3.7/site-packages/lightgbm/sklearn.py:736: UserWarning: 'verbose' argument is deprecated and will be removed in a future release of LightGBM. Pass 'log_evaluation()' callback via 'callbacks' argument instead.\n",
      "  _log_warning(\"'verbose' argument is deprecated and will be removed in a future release of LightGBM. \"\n"
     ]
    },
    {
     "name": "stdout",
     "output_type": "stream",
     "text": [
      "fit fold=4  0.801[s]\n",
      "Fold 4 RMSLE: 0.4398\n",
      "\n",
      "--------------------------------------------------\n",
      "FINISHED | Whole RMSLE: 0.4371\n"
     ]
    },
    {
     "name": "stderr",
     "output_type": "stream",
     "text": [
      "/opt/conda/lib/python3.7/site-packages/ipykernel_launcher.py:12: DeprecationWarning: `np.float` is a deprecated alias for the builtin `float`. To silence this warning, use `float` by itself. Doing this will not modify any behavior and is safe. If you specifically wanted the numpy scalar type, use `np.float64` here.\n",
      "Deprecated in NumPy 1.20; for more details and guidance: https://numpy.org/devdocs/release/1.20.0-notes.html#deprecations\n",
      "  if sys.path[0] == \"\":\n",
      "/opt/conda/lib/python3.7/site-packages/lightgbm/sklearn.py:726: UserWarning: 'early_stopping_rounds' argument is deprecated and will be removed in a future release of LightGBM. Pass 'early_stopping()' callback via 'callbacks' argument instead.\n",
      "  _log_warning(\"'early_stopping_rounds' argument is deprecated and will be removed in a future release of LightGBM. \"\n",
      "/opt/conda/lib/python3.7/site-packages/lightgbm/sklearn.py:736: UserWarning: 'verbose' argument is deprecated and will be removed in a future release of LightGBM. Pass 'log_evaluation()' callback via 'callbacks' argument instead.\n",
      "  _log_warning(\"'verbose' argument is deprecated and will be removed in a future release of LightGBM. \"\n"
     ]
    },
    {
     "name": "stdout",
     "output_type": "stream",
     "text": [
      "fit fold=0  0.659[s]\n",
      "Fold 0 RMSLE: 0.2364\n",
      "\n"
     ]
    },
    {
     "name": "stderr",
     "output_type": "stream",
     "text": [
      "/opt/conda/lib/python3.7/site-packages/lightgbm/sklearn.py:726: UserWarning: 'early_stopping_rounds' argument is deprecated and will be removed in a future release of LightGBM. Pass 'early_stopping()' callback via 'callbacks' argument instead.\n",
      "  _log_warning(\"'early_stopping_rounds' argument is deprecated and will be removed in a future release of LightGBM. \"\n",
      "/opt/conda/lib/python3.7/site-packages/lightgbm/sklearn.py:736: UserWarning: 'verbose' argument is deprecated and will be removed in a future release of LightGBM. Pass 'log_evaluation()' callback via 'callbacks' argument instead.\n",
      "  _log_warning(\"'verbose' argument is deprecated and will be removed in a future release of LightGBM. \"\n"
     ]
    },
    {
     "name": "stdout",
     "output_type": "stream",
     "text": [
      "fit fold=1  0.649[s]\n",
      "Fold 1 RMSLE: 0.2291\n",
      "\n"
     ]
    },
    {
     "name": "stderr",
     "output_type": "stream",
     "text": [
      "/opt/conda/lib/python3.7/site-packages/lightgbm/sklearn.py:726: UserWarning: 'early_stopping_rounds' argument is deprecated and will be removed in a future release of LightGBM. Pass 'early_stopping()' callback via 'callbacks' argument instead.\n",
      "  _log_warning(\"'early_stopping_rounds' argument is deprecated and will be removed in a future release of LightGBM. \"\n",
      "/opt/conda/lib/python3.7/site-packages/lightgbm/sklearn.py:736: UserWarning: 'verbose' argument is deprecated and will be removed in a future release of LightGBM. Pass 'log_evaluation()' callback via 'callbacks' argument instead.\n",
      "  _log_warning(\"'verbose' argument is deprecated and will be removed in a future release of LightGBM. \"\n"
     ]
    },
    {
     "name": "stdout",
     "output_type": "stream",
     "text": [
      "fit fold=2  0.698[s]\n",
      "Fold 2 RMSLE: 0.2337\n",
      "\n"
     ]
    },
    {
     "name": "stderr",
     "output_type": "stream",
     "text": [
      "/opt/conda/lib/python3.7/site-packages/lightgbm/sklearn.py:726: UserWarning: 'early_stopping_rounds' argument is deprecated and will be removed in a future release of LightGBM. Pass 'early_stopping()' callback via 'callbacks' argument instead.\n",
      "  _log_warning(\"'early_stopping_rounds' argument is deprecated and will be removed in a future release of LightGBM. \"\n",
      "/opt/conda/lib/python3.7/site-packages/lightgbm/sklearn.py:736: UserWarning: 'verbose' argument is deprecated and will be removed in a future release of LightGBM. Pass 'log_evaluation()' callback via 'callbacks' argument instead.\n",
      "  _log_warning(\"'verbose' argument is deprecated and will be removed in a future release of LightGBM. \"\n"
     ]
    },
    {
     "name": "stdout",
     "output_type": "stream",
     "text": [
      "fit fold=3  0.583[s]\n",
      "Fold 3 RMSLE: 0.2275\n",
      "\n"
     ]
    },
    {
     "name": "stderr",
     "output_type": "stream",
     "text": [
      "/opt/conda/lib/python3.7/site-packages/lightgbm/sklearn.py:726: UserWarning: 'early_stopping_rounds' argument is deprecated and will be removed in a future release of LightGBM. Pass 'early_stopping()' callback via 'callbacks' argument instead.\n",
      "  _log_warning(\"'early_stopping_rounds' argument is deprecated and will be removed in a future release of LightGBM. \"\n",
      "/opt/conda/lib/python3.7/site-packages/lightgbm/sklearn.py:736: UserWarning: 'verbose' argument is deprecated and will be removed in a future release of LightGBM. Pass 'log_evaluation()' callback via 'callbacks' argument instead.\n",
      "  _log_warning(\"'verbose' argument is deprecated and will be removed in a future release of LightGBM. \"\n"
     ]
    },
    {
     "name": "stdout",
     "output_type": "stream",
     "text": [
      "fit fold=4  0.642[s]\n",
      "Fold 4 RMSLE: 0.2272\n",
      "\n",
      "--------------------------------------------------\n",
      "FINISHED | Whole RMSLE: 0.2308\n"
     ]
    },
    {
     "data": {
      "image/png": "[encoded data removed]",
      "text/plain": [
       "<Figure size 432x432 with 1 Axes>"
      ]
     },
     "metadata": {
      "needs_background": "light"
     },
     "output_type": "display_data"
    },
    {
     "data": {
      "image/png": "[encoded data removed]",
      "text/plain": [
       "<Figure size 432x432 with 1 Axes>"
      ]
     },
     "metadata": {
      "needs_background": "light"
     },
     "output_type": "display_data"
    },
    {
     "data": {
      "image/png": "[encoded data removed]",
      "text/plain": [
       "<Figure size 432x432 with 1 Axes>"
      ]
     },
     "metadata": {
      "needs_background": "light"
     },
     "output_type": "display_data"
    }
   ],
   "source": [
    "from sklearn.model_selection import KFold\n",
    "MODEL=[]\n",
    "OOF=[]\n",
    "\n",
    "for i in range(3):\n",
    "    fold = KFold(n_splits=5, shuffle=True, random_state=71)\n",
    "    ydfi=ydf.iloc[:,i]\n",
    "    y=np.array(ydfi)\n",
    "    cv = list(fold.split(train_feat_df, y))\n",
    "    oof, models = fit_lgbm(train_feat_df.values, y, cv, params=params, verbose=500)\n",
    "    MODEL+=[models]\n",
    "    OOF+=[oof]\n",
    "    \n",
    "    fig,ax = plt.subplots(figsize=(6,6))\n",
    "    ax.set_title(target[i],fontsize=20)\n",
    "    ax.set_ylabel('Predicted',fontsize=12)\n",
    "    ax.set_xlabel('True',fontsize=12)\n",
    "    ax.scatter(y,oof)"
   ]
  },
  {
   "cell_type": "markdown",
   "id": "d37b18f8",
   "metadata": {
    "papermill": {
     "duration": 0.010934,
     "end_time": "2022-11-24T13:43:04.394694",
     "exception": false,
     "start_time": "2022-11-24T13:43:04.383760",
     "status": "completed"
    },
    "tags": []
   },
   "source": [
    "# Visualize Importance"
   ]
  },
  {
   "cell_type": "code",
   "execution_count": 18,
   "id": "5b2987eb",
   "metadata": {
    "execution": {
     "iopub.execute_input": "2022-11-24T13:43:04.419075Z",
     "iopub.status.busy": "2022-11-24T13:43:04.418598Z",
     "iopub.status.idle": "2022-11-24T13:43:04.428633Z",
     "shell.execute_reply": "2022-11-24T13:43:04.427355Z"
    },
    "papermill": {
     "duration": 0.025199,
     "end_time": "2022-11-24T13:43:04.431040",
     "exception": false,
     "start_time": "2022-11-24T13:43:04.405841",
     "status": "completed"
    },
    "tags": []
   },
   "outputs": [],
   "source": [
    "def visualize_importance(models, feat_train_df):\n",
    "\n",
    "    feature_importance_df = pd.DataFrame()\n",
    "    for i, model in enumerate(models):\n",
    "        _df = pd.DataFrame()\n",
    "        _df['feature_importance'] = model.feature_importances_\n",
    "        _df['column'] = feat_train_df.columns\n",
    "        _df['fold'] = i + 1\n",
    "        feature_importance_df = pd.concat([feature_importance_df, _df], \n",
    "                                          axis=0, ignore_index=True)\n",
    "\n",
    "    order = feature_importance_df.groupby('column')\\\n",
    "        .sum()[['feature_importance']]\\\n",
    "        .sort_values('feature_importance', ascending=False).index[:50]\n",
    "\n",
    "    fig, ax = plt.subplots(figsize=(8, max(6, len(order) * .25)))\n",
    "    sns.boxenplot(data=feature_importance_df, \n",
    "                  x='feature_importance', \n",
    "                  y='column', \n",
    "                  order=order, \n",
    "                  ax=ax, \n",
    "                  palette='viridis', \n",
    "                  orient='h')\n",
    "    \n",
    "    ax.tick_params(axis='x', rotation=0)\n",
    "    #ax.set_title('Importance')\n",
    "    ax.grid()\n",
    "    fig.tight_layout()\n",
    "    \n",
    "    return fig,ax\n",
    "\n",
    "#fig, ax = visualize_importance(models, train_feat_df)"
   ]
  },
  {
   "cell_type": "code",
   "execution_count": 19,
   "id": "e439beda",
   "metadata": {
    "execution": {
     "iopub.execute_input": "2022-11-24T13:43:04.457918Z",
     "iopub.status.busy": "2022-11-24T13:43:04.457489Z",
     "iopub.status.idle": "2022-11-24T13:43:18.355147Z",
     "shell.execute_reply": "2022-11-24T13:43:18.353978Z"
    },
    "papermill": {
     "duration": 13.914982,
     "end_time": "2022-11-24T13:43:18.357704",
     "exception": false,
     "start_time": "2022-11-24T13:43:04.442722",
     "status": "completed"
    },
    "tags": []
   },
   "outputs": [
    {
     "name": "stderr",
     "output_type": "stream",
     "text": [
      "/opt/conda/lib/python3.7/site-packages/ipykernel_launcher.py:12: DeprecationWarning: `np.float` is a deprecated alias for the builtin `float`. To silence this warning, use `float` by itself. Doing this will not modify any behavior and is safe. If you specifically wanted the numpy scalar type, use `np.float64` here.\n",
      "Deprecated in NumPy 1.20; for more details and guidance: https://numpy.org/devdocs/release/1.20.0-notes.html#deprecations\n",
      "  if sys.path[0] == \"\":\n",
      "/opt/conda/lib/python3.7/site-packages/lightgbm/sklearn.py:726: UserWarning: 'early_stopping_rounds' argument is deprecated and will be removed in a future release of LightGBM. Pass 'early_stopping()' callback via 'callbacks' argument instead.\n",
      "  _log_warning(\"'early_stopping_rounds' argument is deprecated and will be removed in a future release of LightGBM. \"\n",
      "/opt/conda/lib/python3.7/site-packages/lightgbm/sklearn.py:736: UserWarning: 'verbose' argument is deprecated and will be removed in a future release of LightGBM. Pass 'log_evaluation()' callback via 'callbacks' argument instead.\n",
      "  _log_warning(\"'verbose' argument is deprecated and will be removed in a future release of LightGBM. \"\n"
     ]
    },
    {
     "name": "stdout",
     "output_type": "stream",
     "text": [
      "fit fold=0  0.805[s]\n",
      "Fold 0 RMSLE: 0.4230\n",
      "\n"
     ]
    },
    {
     "name": "stderr",
     "output_type": "stream",
     "text": [
      "/opt/conda/lib/python3.7/site-packages/lightgbm/sklearn.py:726: UserWarning: 'early_stopping_rounds' argument is deprecated and will be removed in a future release of LightGBM. Pass 'early_stopping()' callback via 'callbacks' argument instead.\n",
      "  _log_warning(\"'early_stopping_rounds' argument is deprecated and will be removed in a future release of LightGBM. \"\n",
      "/opt/conda/lib/python3.7/site-packages/lightgbm/sklearn.py:736: UserWarning: 'verbose' argument is deprecated and will be removed in a future release of LightGBM. Pass 'log_evaluation()' callback via 'callbacks' argument instead.\n",
      "  _log_warning(\"'verbose' argument is deprecated and will be removed in a future release of LightGBM. \"\n"
     ]
    },
    {
     "name": "stdout",
     "output_type": "stream",
     "text": [
      "fit fold=1  0.822[s]\n",
      "Fold 1 RMSLE: 0.4243\n",
      "\n"
     ]
    },
    {
     "name": "stderr",
     "output_type": "stream",
     "text": [
      "/opt/conda/lib/python3.7/site-packages/lightgbm/sklearn.py:726: UserWarning: 'early_stopping_rounds' argument is deprecated and will be removed in a future release of LightGBM. Pass 'early_stopping()' callback via 'callbacks' argument instead.\n",
      "  _log_warning(\"'early_stopping_rounds' argument is deprecated and will be removed in a future release of LightGBM. \"\n",
      "/opt/conda/lib/python3.7/site-packages/lightgbm/sklearn.py:736: UserWarning: 'verbose' argument is deprecated and will be removed in a future release of LightGBM. Pass 'log_evaluation()' callback via 'callbacks' argument instead.\n",
      "  _log_warning(\"'verbose' argument is deprecated and will be removed in a future release of LightGBM. \"\n"
     ]
    },
    {
     "name": "stdout",
     "output_type": "stream",
     "text": [
      "fit fold=2  0.829[s]\n",
      "Fold 2 RMSLE: 0.4199\n",
      "\n"
     ]
    },
    {
     "name": "stderr",
     "output_type": "stream",
     "text": [
      "/opt/conda/lib/python3.7/site-packages/lightgbm/sklearn.py:726: UserWarning: 'early_stopping_rounds' argument is deprecated and will be removed in a future release of LightGBM. Pass 'early_stopping()' callback via 'callbacks' argument instead.\n",
      "  _log_warning(\"'early_stopping_rounds' argument is deprecated and will be removed in a future release of LightGBM. \"\n",
      "/opt/conda/lib/python3.7/site-packages/lightgbm/sklearn.py:736: UserWarning: 'verbose' argument is deprecated and will be removed in a future release of LightGBM. Pass 'log_evaluation()' callback via 'callbacks' argument instead.\n",
      "  _log_warning(\"'verbose' argument is deprecated and will be removed in a future release of LightGBM. \"\n"
     ]
    },
    {
     "name": "stdout",
     "output_type": "stream",
     "text": [
      "fit fold=3  0.804[s]\n",
      "Fold 3 RMSLE: 0.4268\n",
      "\n"
     ]
    },
    {
     "name": "stderr",
     "output_type": "stream",
     "text": [
      "/opt/conda/lib/python3.7/site-packages/lightgbm/sklearn.py:726: UserWarning: 'early_stopping_rounds' argument is deprecated and will be removed in a future release of LightGBM. Pass 'early_stopping()' callback via 'callbacks' argument instead.\n",
      "  _log_warning(\"'early_stopping_rounds' argument is deprecated and will be removed in a future release of LightGBM. \"\n",
      "/opt/conda/lib/python3.7/site-packages/lightgbm/sklearn.py:736: UserWarning: 'verbose' argument is deprecated and will be removed in a future release of LightGBM. Pass 'log_evaluation()' callback via 'callbacks' argument instead.\n",
      "  _log_warning(\"'verbose' argument is deprecated and will be removed in a future release of LightGBM. \"\n"
     ]
    },
    {
     "name": "stdout",
     "output_type": "stream",
     "text": [
      "fit fold=4  0.793[s]\n",
      "Fold 4 RMSLE: 0.4247\n",
      "\n",
      "--------------------------------------------------\n",
      "FINISHED | Whole RMSLE: 0.4238\n"
     ]
    },
    {
     "name": "stderr",
     "output_type": "stream",
     "text": [
      "/opt/conda/lib/python3.7/site-packages/ipykernel_launcher.py:12: DeprecationWarning: `np.float` is a deprecated alias for the builtin `float`. To silence this warning, use `float` by itself. Doing this will not modify any behavior and is safe. If you specifically wanted the numpy scalar type, use `np.float64` here.\n",
      "Deprecated in NumPy 1.20; for more details and guidance: https://numpy.org/devdocs/release/1.20.0-notes.html#deprecations\n",
      "  if sys.path[0] == \"\":\n",
      "/opt/conda/lib/python3.7/site-packages/lightgbm/sklearn.py:726: UserWarning: 'early_stopping_rounds' argument is deprecated and will be removed in a future release of LightGBM. Pass 'early_stopping()' callback via 'callbacks' argument instead.\n",
      "  _log_warning(\"'early_stopping_rounds' argument is deprecated and will be removed in a future release of LightGBM. \"\n",
      "/opt/conda/lib/python3.7/site-packages/lightgbm/sklearn.py:736: UserWarning: 'verbose' argument is deprecated and will be removed in a future release of LightGBM. Pass 'log_evaluation()' callback via 'callbacks' argument instead.\n",
      "  _log_warning(\"'verbose' argument is deprecated and will be removed in a future release of LightGBM. \"\n"
     ]
    },
    {
     "name": "stdout",
     "output_type": "stream",
     "text": [
      "fit fold=0  0.832[s]\n",
      "Fold 0 RMSLE: 0.4342\n",
      "\n"
     ]
    },
    {
     "name": "stderr",
     "output_type": "stream",
     "text": [
      "/opt/conda/lib/python3.7/site-packages/lightgbm/sklearn.py:726: UserWarning: 'early_stopping_rounds' argument is deprecated and will be removed in a future release of LightGBM. Pass 'early_stopping()' callback via 'callbacks' argument instead.\n",
      "  _log_warning(\"'early_stopping_rounds' argument is deprecated and will be removed in a future release of LightGBM. \"\n",
      "/opt/conda/lib/python3.7/site-packages/lightgbm/sklearn.py:736: UserWarning: 'verbose' argument is deprecated and will be removed in a future release of LightGBM. Pass 'log_evaluation()' callback via 'callbacks' argument instead.\n",
      "  _log_warning(\"'verbose' argument is deprecated and will be removed in a future release of LightGBM. \"\n"
     ]
    },
    {
     "name": "stdout",
     "output_type": "stream",
     "text": [
      "fit fold=1  0.670[s]\n",
      "Fold 1 RMSLE: 0.4401\n",
      "\n"
     ]
    },
    {
     "name": "stderr",
     "output_type": "stream",
     "text": [
      "/opt/conda/lib/python3.7/site-packages/lightgbm/sklearn.py:726: UserWarning: 'early_stopping_rounds' argument is deprecated and will be removed in a future release of LightGBM. Pass 'early_stopping()' callback via 'callbacks' argument instead.\n",
      "  _log_warning(\"'early_stopping_rounds' argument is deprecated and will be removed in a future release of LightGBM. \"\n",
      "/opt/conda/lib/python3.7/site-packages/lightgbm/sklearn.py:736: UserWarning: 'verbose' argument is deprecated and will be removed in a future release of LightGBM. Pass 'log_evaluation()' callback via 'callbacks' argument instead.\n",
      "  _log_warning(\"'verbose' argument is deprecated and will be removed in a future release of LightGBM. \"\n"
     ]
    },
    {
     "name": "stdout",
     "output_type": "stream",
     "text": [
      "fit fold=2  0.724[s]\n",
      "Fold 2 RMSLE: 0.4361\n",
      "\n"
     ]
    },
    {
     "name": "stderr",
     "output_type": "stream",
     "text": [
      "/opt/conda/lib/python3.7/site-packages/lightgbm/sklearn.py:726: UserWarning: 'early_stopping_rounds' argument is deprecated and will be removed in a future release of LightGBM. Pass 'early_stopping()' callback via 'callbacks' argument instead.\n",
      "  _log_warning(\"'early_stopping_rounds' argument is deprecated and will be removed in a future release of LightGBM. \"\n",
      "/opt/conda/lib/python3.7/site-packages/lightgbm/sklearn.py:736: UserWarning: 'verbose' argument is deprecated and will be removed in a future release of LightGBM. Pass 'log_evaluation()' callback via 'callbacks' argument instead.\n",
      "  _log_warning(\"'verbose' argument is deprecated and will be removed in a future release of LightGBM. \"\n"
     ]
    },
    {
     "name": "stdout",
     "output_type": "stream",
     "text": [
      "fit fold=3  0.809[s]\n",
      "Fold 3 RMSLE: 0.4353\n",
      "\n"
     ]
    },
    {
     "name": "stderr",
     "output_type": "stream",
     "text": [
      "/opt/conda/lib/python3.7/site-packages/lightgbm/sklearn.py:726: UserWarning: 'early_stopping_rounds' argument is deprecated and will be removed in a future release of LightGBM. Pass 'early_stopping()' callback via 'callbacks' argument instead.\n",
      "  _log_warning(\"'early_stopping_rounds' argument is deprecated and will be removed in a future release of LightGBM. \"\n",
      "/opt/conda/lib/python3.7/site-packages/lightgbm/sklearn.py:736: UserWarning: 'verbose' argument is deprecated and will be removed in a future release of LightGBM. Pass 'log_evaluation()' callback via 'callbacks' argument instead.\n",
      "  _log_warning(\"'verbose' argument is deprecated and will be removed in a future release of LightGBM. \"\n"
     ]
    },
    {
     "name": "stdout",
     "output_type": "stream",
     "text": [
      "fit fold=4  0.774[s]\n",
      "Fold 4 RMSLE: 0.4398\n",
      "\n",
      "--------------------------------------------------\n",
      "FINISHED | Whole RMSLE: 0.4371\n"
     ]
    },
    {
     "name": "stderr",
     "output_type": "stream",
     "text": [
      "/opt/conda/lib/python3.7/site-packages/ipykernel_launcher.py:12: DeprecationWarning: `np.float` is a deprecated alias for the builtin `float`. To silence this warning, use `float` by itself. Doing this will not modify any behavior and is safe. If you specifically wanted the numpy scalar type, use `np.float64` here.\n",
      "Deprecated in NumPy 1.20; for more details and guidance: https://numpy.org/devdocs/release/1.20.0-notes.html#deprecations\n",
      "  if sys.path[0] == \"\":\n",
      "/opt/conda/lib/python3.7/site-packages/lightgbm/sklearn.py:726: UserWarning: 'early_stopping_rounds' argument is deprecated and will be removed in a future release of LightGBM. Pass 'early_stopping()' callback via 'callbacks' argument instead.\n",
      "  _log_warning(\"'early_stopping_rounds' argument is deprecated and will be removed in a future release of LightGBM. \"\n",
      "/opt/conda/lib/python3.7/site-packages/lightgbm/sklearn.py:736: UserWarning: 'verbose' argument is deprecated and will be removed in a future release of LightGBM. Pass 'log_evaluation()' callback via 'callbacks' argument instead.\n",
      "  _log_warning(\"'verbose' argument is deprecated and will be removed in a future release of LightGBM. \"\n"
     ]
    },
    {
     "name": "stdout",
     "output_type": "stream",
     "text": [
      "fit fold=0  1.575[s]\n",
      "Fold 0 RMSLE: 0.2364\n",
      "\n"
     ]
    },
    {
     "name": "stderr",
     "output_type": "stream",
     "text": [
      "/opt/conda/lib/python3.7/site-packages/lightgbm/sklearn.py:726: UserWarning: 'early_stopping_rounds' argument is deprecated and will be removed in a future release of LightGBM. Pass 'early_stopping()' callback via 'callbacks' argument instead.\n",
      "  _log_warning(\"'early_stopping_rounds' argument is deprecated and will be removed in a future release of LightGBM. \"\n",
      "/opt/conda/lib/python3.7/site-packages/lightgbm/sklearn.py:736: UserWarning: 'verbose' argument is deprecated and will be removed in a future release of LightGBM. Pass 'log_evaluation()' callback via 'callbacks' argument instead.\n",
      "  _log_warning(\"'verbose' argument is deprecated and will be removed in a future release of LightGBM. \"\n"
     ]
    },
    {
     "name": "stdout",
     "output_type": "stream",
     "text": [
      "fit fold=1  0.637[s]\n",
      "Fold 1 RMSLE: 0.2291\n",
      "\n"
     ]
    },
    {
     "name": "stderr",
     "output_type": "stream",
     "text": [
      "/opt/conda/lib/python3.7/site-packages/lightgbm/sklearn.py:726: UserWarning: 'early_stopping_rounds' argument is deprecated and will be removed in a future release of LightGBM. Pass 'early_stopping()' callback via 'callbacks' argument instead.\n",
      "  _log_warning(\"'early_stopping_rounds' argument is deprecated and will be removed in a future release of LightGBM. \"\n",
      "/opt/conda/lib/python3.7/site-packages/lightgbm/sklearn.py:736: UserWarning: 'verbose' argument is deprecated and will be removed in a future release of LightGBM. Pass 'log_evaluation()' callback via 'callbacks' argument instead.\n",
      "  _log_warning(\"'verbose' argument is deprecated and will be removed in a future release of LightGBM. \"\n"
     ]
    },
    {
     "name": "stdout",
     "output_type": "stream",
     "text": [
      "fit fold=2  0.672[s]\n",
      "Fold 2 RMSLE: 0.2337\n",
      "\n"
     ]
    },
    {
     "name": "stderr",
     "output_type": "stream",
     "text": [
      "/opt/conda/lib/python3.7/site-packages/lightgbm/sklearn.py:726: UserWarning: 'early_stopping_rounds' argument is deprecated and will be removed in a future release of LightGBM. Pass 'early_stopping()' callback via 'callbacks' argument instead.\n",
      "  _log_warning(\"'early_stopping_rounds' argument is deprecated and will be removed in a future release of LightGBM. \"\n",
      "/opt/conda/lib/python3.7/site-packages/lightgbm/sklearn.py:736: UserWarning: 'verbose' argument is deprecated and will be removed in a future release of LightGBM. Pass 'log_evaluation()' callback via 'callbacks' argument instead.\n",
      "  _log_warning(\"'verbose' argument is deprecated and will be removed in a future release of LightGBM. \"\n"
     ]
    },
    {
     "name": "stdout",
     "output_type": "stream",
     "text": [
      "fit fold=3  0.589[s]\n",
      "Fold 3 RMSLE: 0.2275\n",
      "\n"
     ]
    },
    {
     "name": "stderr",
     "output_type": "stream",
     "text": [
      "/opt/conda/lib/python3.7/site-packages/lightgbm/sklearn.py:726: UserWarning: 'early_stopping_rounds' argument is deprecated and will be removed in a future release of LightGBM. Pass 'early_stopping()' callback via 'callbacks' argument instead.\n",
      "  _log_warning(\"'early_stopping_rounds' argument is deprecated and will be removed in a future release of LightGBM. \"\n",
      "/opt/conda/lib/python3.7/site-packages/lightgbm/sklearn.py:736: UserWarning: 'verbose' argument is deprecated and will be removed in a future release of LightGBM. Pass 'log_evaluation()' callback via 'callbacks' argument instead.\n",
      "  _log_warning(\"'verbose' argument is deprecated and will be removed in a future release of LightGBM. \"\n"
     ]
    },
    {
     "name": "stdout",
     "output_type": "stream",
     "text": [
      "fit fold=4  0.699[s]\n",
      "Fold 4 RMSLE: 0.2272\n",
      "\n",
      "--------------------------------------------------\n",
      "FINISHED | Whole RMSLE: 0.2308\n"
     ]
    },
    {
     "data": {
      "image/png": "[encoded data removed]",
      "text/plain": [
       "<Figure size 576x432 with 1 Axes>"
      ]
     },
     "metadata": {
      "needs_background": "light"
     },
     "output_type": "display_data"
    },
    {
     "data": {
      "image/png": "[encoded data removed]",
      "text/plain": [
       "<Figure size 576x432 with 1 Axes>"
      ]
     },
     "metadata": {
      "needs_background": "light"
     },
     "output_type": "display_data"
    },
    {
     "data": {
      "image/png": "[encoded data removed]",
      "text/plain": [
       "<Figure size 576x432 with 1 Axes>"
      ]
     },
     "metadata": {
      "needs_background": "light"
     },
     "output_type": "display_data"
    }
   ],
   "source": [
    "OOF2=[]\n",
    "MODEL2=[]\n",
    "for i in range(3):\n",
    "    fold = KFold(n_splits=5, shuffle=True, random_state=71)\n",
    "    ydfi=ydf.iloc[:,i]\n",
    "    y=np.array(ydfi)\n",
    "    cv = list(fold.split(train_feat_df, y))\n",
    "    oof, models = fit_lgbm(train_feat_df.values, y, cv, params=params, verbose=500)\n",
    "    OOF2+=[oof]\n",
    "    MODEL2+=[models]\n",
    "    fig, ax = visualize_importance(models, train_feat_df)\n",
    "    ax.set_title(target[i]+' Imortance',fontsize=20)"
   ]
  },
  {
   "cell_type": "code",
   "execution_count": 20,
   "id": "96cf1e41",
   "metadata": {
    "execution": {
     "iopub.execute_input": "2022-11-24T13:43:18.389455Z",
     "iopub.status.busy": "2022-11-24T13:43:18.388500Z",
     "iopub.status.idle": "2022-11-24T13:43:19.057592Z",
     "shell.execute_reply": "2022-11-24T13:43:19.055996Z"
    },
    "papermill": {
     "duration": 0.688265,
     "end_time": "2022-11-24T13:43:19.060889",
     "exception": false,
     "start_time": "2022-11-24T13:43:18.372624",
     "status": "completed"
    },
    "tags": []
   },
   "outputs": [
    {
     "name": "stdout",
     "output_type": "stream",
     "text": [
      "[0.8857015916264779, 0.5630809525873371, 0.30090670213910575, 0.806673361639522, 0.3096971563898345]\n",
      "[array(1), array(1), array(0), array(1), array(0)]\n",
      "[0.9328099427780819, 0.5773121511206826, 0.40789914983430575, 0.8170796808063394, 0.37322056669812576]\n",
      "[array(1), array(1), array(0), array(1), array(0)]\n",
      "[0.23671114844974592, 0.01823712134392598, 0.008566825894446687, 0.030724905900520155, 0.026915734689139693]\n",
      "[array(0), array(0), array(0), array(0), array(0)]\n"
     ]
    }
   ],
   "source": [
    "PREDS2=[]\n",
    "PRED2=[]\n",
    "for j in range(3):    \n",
    "    preds=[]\n",
    "    models=MODEL2[j]\n",
    "    for i in range(5):\n",
    "        preds += [models[i].predict(test_feat_df.values)/5]\n",
    "    predsT=np.array(preds).T\n",
    "    preds2=[]\n",
    "    PRED=[]\n",
    "    for item in predsT:\n",
    "        value=sum(item)\n",
    "        preds2+=[value]\n",
    "        PRED+=[np.where(value<0.5,0,1)]\n",
    "    PREDS2+=[preds2]\n",
    "    PRED2+=[PRED]\n",
    "    print(preds2[0:5])\n",
    "    print(PRED[0:5])"
   ]
  },
  {
   "cell_type": "code",
   "execution_count": 21,
   "id": "5f977170",
   "metadata": {
    "execution": {
     "iopub.execute_input": "2022-11-24T13:43:19.093389Z",
     "iopub.status.busy": "2022-11-24T13:43:19.092979Z",
     "iopub.status.idle": "2022-11-24T13:43:20.817112Z",
     "shell.execute_reply": "2022-11-24T13:43:20.816310Z"
    },
    "papermill": {
     "duration": 1.74298,
     "end_time": "2022-11-24T13:43:20.819591",
     "exception": false,
     "start_time": "2022-11-24T13:43:19.076611",
     "status": "completed"
    },
    "tags": []
   },
   "outputs": [
    {
     "data": {
      "image/png": "[encoded data removed]",
      "text/plain": [
       "<Figure size 720x360 with 1 Axes>"
      ]
     },
     "metadata": {
      "needs_background": "light"
     },
     "output_type": "display_data"
    },
    {
     "data": {
      "image/png": "[encoded data removed]",
      "text/plain": [
       "<Figure size 720x360 with 1 Axes>"
      ]
     },
     "metadata": {
      "needs_background": "light"
     },
     "output_type": "display_data"
    },
    {
     "data": {
      "image/png": "[encoded data removed]",
      "text/plain": [
       "<Figure size 720x360 with 1 Axes>"
      ]
     },
     "metadata": {
      "needs_background": "light"
     },
     "output_type": "display_data"
    }
   ],
   "source": [
    "for i in range(3):\n",
    "    oof=OOF2[i]\n",
    "    preds2=PREDS2[i]\n",
    "    fig, ax = plt.subplots(figsize=(10,5))\n",
    "    sns.histplot(oof, label='Train Predicted '+target[i], ax=ax, color='C1',bins=30)\n",
    "    sns.histplot(preds2, label='Test Predicted '+target[i], ax=ax, color='black',bins=30)\n",
    "    ax.legend()\n",
    "    ax.grid()"
   ]
  },
  {
   "cell_type": "code",
   "execution_count": 22,
   "id": "1e764cc0",
   "metadata": {
    "execution": {
     "iopub.execute_input": "2022-11-24T13:43:20.853985Z",
     "iopub.status.busy": "2022-11-24T13:43:20.853546Z",
     "iopub.status.idle": "2022-11-24T13:43:20.859347Z",
     "shell.execute_reply": "2022-11-24T13:43:20.858089Z"
    },
    "papermill": {
     "duration": 0.026269,
     "end_time": "2022-11-24T13:43:20.862085",
     "exception": false,
     "start_time": "2022-11-24T13:43:20.835816",
     "status": "completed"
    },
    "tags": []
   },
   "outputs": [],
   "source": [
    "LName=['No','Yes']"
   ]
  },
  {
   "cell_type": "code",
   "execution_count": 23,
   "id": "9de23ba6",
   "metadata": {
    "execution": {
     "iopub.execute_input": "2022-11-24T13:43:20.896499Z",
     "iopub.status.busy": "2022-11-24T13:43:20.895929Z",
     "iopub.status.idle": "2022-11-24T13:43:21.062050Z",
     "shell.execute_reply": "2022-11-24T13:43:21.060195Z"
    },
    "papermill": {
     "duration": 0.187238,
     "end_time": "2022-11-24T13:43:21.065693",
     "exception": false,
     "start_time": "2022-11-24T13:43:20.878455",
     "status": "completed"
    },
    "tags": []
   },
   "outputs": [
    {
     "name": "stdout",
     "output_type": "stream",
     "text": [
      "Diabetes\n",
      "              precision    recall  f1-score   support\n",
      "\n",
      "          No     0.7462    0.7075    0.7263      8825\n",
      "         Yes     0.7226    0.7599    0.7408      8848\n",
      "\n",
      "    accuracy                         0.7338     17673\n",
      "   macro avg     0.7344    0.7337    0.7336     17673\n",
      "weighted avg     0.7344    0.7338    0.7336     17673\n",
      "\n",
      "\n",
      "Hypertension\n",
      "              precision    recall  f1-score   support\n",
      "\n",
      "          No     0.6976    0.6001    0.6452      7715\n",
      "         Yes     0.7205    0.7985    0.7575      9958\n",
      "\n",
      "    accuracy                         0.7119     17673\n",
      "   macro avg     0.7090    0.6993    0.7013     17673\n",
      "weighted avg     0.7105    0.7119    0.7085     17673\n",
      "\n",
      "\n",
      "Stroke\n",
      "              precision    recall  f1-score   support\n",
      "\n",
      "          No     0.9375    1.0000    0.9677     16568\n",
      "         Yes     0.0000    0.0000    0.0000      1105\n",
      "\n",
      "    accuracy                         0.9375     17673\n",
      "   macro avg     0.4687    0.5000    0.4839     17673\n",
      "weighted avg     0.8789    0.9375    0.9072     17673\n",
      "\n",
      "\n"
     ]
    },
    {
     "name": "stderr",
     "output_type": "stream",
     "text": [
      "/opt/conda/lib/python3.7/site-packages/sklearn/metrics/_classification.py:1318: UndefinedMetricWarning: Precision and F-score are ill-defined and being set to 0.0 in labels with no predicted samples. Use `zero_division` parameter to control this behavior.\n",
      "  _warn_prf(average, modifier, msg_start, len(result))\n",
      "/opt/conda/lib/python3.7/site-packages/sklearn/metrics/_classification.py:1318: UndefinedMetricWarning: Precision and F-score are ill-defined and being set to 0.0 in labels with no predicted samples. Use `zero_division` parameter to control this behavior.\n",
      "  _warn_prf(average, modifier, msg_start, len(result))\n",
      "/opt/conda/lib/python3.7/site-packages/sklearn/metrics/_classification.py:1318: UndefinedMetricWarning: Precision and F-score are ill-defined and being set to 0.0 in labels with no predicted samples. Use `zero_division` parameter to control this behavior.\n",
      "  _warn_prf(average, modifier, msg_start, len(result))\n"
     ]
    }
   ],
   "source": [
    "from sklearn.metrics import classification_report\n",
    "for i in range(3):\n",
    "    PRED=PRED2[i]\n",
    "    TRUE=testY.iloc[:,i]\n",
    "    print(target[i])\n",
    "    print(classification_report(TRUE,PRED,target_names=LName,digits=4))\n",
    "    print()"
   ]
  },
  {
   "cell_type": "code",
   "execution_count": null,
   "id": "e706590a",
   "metadata": {
    "papermill": {
     "duration": 0.016236,
     "end_time": "2022-11-24T13:43:21.098263",
     "exception": false,
     "start_time": "2022-11-24T13:43:21.082027",
     "status": "completed"
    },
    "tags": []
   },
   "outputs": [],
   "source": []
  },
  {
   "cell_type": "code",
   "execution_count": null,
   "id": "82f5add3",
   "metadata": {
    "papermill": {
     "duration": 0.015644,
     "end_time": "2022-11-24T13:43:21.130110",
     "exception": false,
     "start_time": "2022-11-24T13:43:21.114466",
     "status": "completed"
    },
    "tags": []
   },
   "outputs": [],
   "source": []
  }
 ],
 "metadata": {
  "kernelspec": {
   "display_name": "Python 3",
   "language": "python",
   "name": "python3"
  },
  "language_info": {
   "codemirror_mode": {
    "name": "ipython",
    "version": 3
   },
   "file_extension": ".py",
   "mimetype": "text/x-python",
   "name": "python",
   "nbconvert_exporter": "python",
   "pygments_lexer": "ipython3",
   "version": "3.7.12"
  },
  "papermill": {
   "default_parameters": {},
   "duration": 52.229837,
   "end_time": "2022-11-24T13:43:24.561551",
   "environment_variables": {},
   "exception": null,
   "input_path": "__notebook__.ipynb",
   "output_path": "__notebook__.ipynb",
   "parameters": {},
   "start_time": "2022-11-24T13:42:32.331714",
   "version": "2.3.4"
  }
 },
 "nbformat": 4,
 "nbformat_minor": 5
}
