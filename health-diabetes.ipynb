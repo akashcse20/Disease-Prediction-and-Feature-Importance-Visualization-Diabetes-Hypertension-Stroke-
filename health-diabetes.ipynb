{
 "cells": [
  {
   "cell_type": "code",
   "execution_count": 1,
   "id": "01d21775",
   "metadata": {
    "_cell_guid": "b1076dfc-b9ad-4769-8c92-a6c4dae69d19",
    "_uuid": "8f2839f25d086af736a60e9eeb907d3b93b6e0e5",
    "execution": {
     "iopub.execute_input": "2022-12-16T06:31:59.791335Z",
     "iopub.status.busy": "2022-12-16T06:31:59.790908Z",
     "iopub.status.idle": "2022-12-16T06:31:59.811051Z",
     "shell.execute_reply": "2022-12-16T06:31:59.810305Z"
    },
    "papermill": {
     "duration": 0.030375,
     "end_time": "2022-12-16T06:31:59.813405",
     "exception": false,
     "start_time": "2022-12-16T06:31:59.783030",
     "status": "completed"
    },
    "tags": []
   },
   "outputs": [
    {
     "name": "stdout",
     "output_type": "stream",
     "text": [
      "/kaggle/input/health-dataset/diabetes_data.csv\n",
      "/kaggle/input/health-dataset/hypertension_data.csv\n"
     ]
    }
   ],
   "source": [
    "# This Python 3 environment comes with many helpful analytics libraries installed\n",
    "# It is defined by the kaggle/python Docker image: https://github.com/kaggle/docker-python\n",
    "# For example, here's several helpful packages to load\n",
    "\n",
    "import numpy as np # linear algebra\n",
    "import pandas as pd # data processing, CSV file I/O (e.g. pd.read_csv)\n",
    "\n",
    "# Input data files are available in the read-only \"../input/\" directory\n",
    "# For example, running this (by clicking run or pressing Shift+Enter) will list all files under the input directory\n",
    "\n",
    "import os\n",
    "for dirname, _, filenames in os.walk('/kaggle/input'):\n",
    "    for filename in filenames:\n",
    "        print(os.path.join(dirname, filename))\n",
    "\n",
    "# You can write up to 20GB to the current directory (/kaggle/working/) that gets preserved as output when you create a version using \"Save & Run All\" \n",
    "# You can also write temporary files to /kaggle/temp/, but they won't be saved outside of the current session"
   ]
  },
  {
   "cell_type": "markdown",
   "id": "44703325",
   "metadata": {
    "papermill": {
     "duration": 0.004274,
     "end_time": "2022-12-16T06:31:59.822490",
     "exception": false,
     "start_time": "2022-12-16T06:31:59.818216",
     "status": "completed"
    },
    "tags": []
   },
   "source": [
    "# Pacakge Import"
   ]
  },
  {
   "cell_type": "code",
   "execution_count": 2,
   "id": "82d165cc",
   "metadata": {
    "execution": {
     "iopub.execute_input": "2022-12-16T06:31:59.833412Z",
     "iopub.status.busy": "2022-12-16T06:31:59.832777Z",
     "iopub.status.idle": "2022-12-16T06:32:00.957724Z",
     "shell.execute_reply": "2022-12-16T06:32:00.956585Z"
    },
    "papermill": {
     "duration": 1.133424,
     "end_time": "2022-12-16T06:32:00.960389",
     "exception": false,
     "start_time": "2022-12-16T06:31:59.826965",
     "status": "completed"
    },
    "tags": []
   },
   "outputs": [],
   "source": [
    "import matplotlib.pyplot as plt\n",
    "import seaborn as sns\n",
    "\n",
    "from sklearn.model_selection import train_test_split\n",
    "from sklearn.preprocessing import OneHotEncoder,MinMaxScaler,StandardScaler,LabelEncoder\n",
    "from sklearn.compose import ColumnTransformer,make_column_selector\n",
    "\n",
    "from sklearn.metrics import classification_report\n",
    "\n",
    "\n",
    "%matplotlib inline"
   ]
  },
  {
   "cell_type": "markdown",
   "id": "ea3dba71",
   "metadata": {
    "papermill": {
     "duration": 0.004152,
     "end_time": "2022-12-16T06:32:00.969099",
     "exception": false,
     "start_time": "2022-12-16T06:32:00.964947",
     "status": "completed"
    },
    "tags": []
   },
   "source": [
    "# Data Import"
   ]
  },
  {
   "cell_type": "code",
   "execution_count": 3,
   "id": "12285d30",
   "metadata": {
    "execution": {
     "iopub.execute_input": "2022-12-16T06:32:00.979361Z",
     "iopub.status.busy": "2022-12-16T06:32:00.978971Z",
     "iopub.status.idle": "2022-12-16T06:32:01.209078Z",
     "shell.execute_reply": "2022-12-16T06:32:01.207998Z"
    },
    "papermill": {
     "duration": 0.237992,
     "end_time": "2022-12-16T06:32:01.211329",
     "exception": false,
     "start_time": "2022-12-16T06:32:00.973337",
     "status": "completed"
    },
    "tags": []
   },
   "outputs": [
    {
     "data": {
      "text/html": [
       "<div>\n",
       "<style scoped>\n",
       "    .dataframe tbody tr th:only-of-type {\n",
       "        vertical-align: middle;\n",
       "    }\n",
       "\n",
       "    .dataframe tbody tr th {\n",
       "        vertical-align: top;\n",
       "    }\n",
       "\n",
       "    .dataframe thead th {\n",
       "        text-align: right;\n",
       "    }\n",
       "</style>\n",
       "<table border=\"1\" class=\"dataframe\">\n",
       "  <thead>\n",
       "    <tr style=\"text-align: right;\">\n",
       "      <th></th>\n",
       "      <th>Age</th>\n",
       "      <th>Sex</th>\n",
       "      <th>HighChol</th>\n",
       "      <th>CholCheck</th>\n",
       "      <th>BMI</th>\n",
       "      <th>Smoker</th>\n",
       "      <th>HeartDiseaseorAttack</th>\n",
       "      <th>PhysActivity</th>\n",
       "      <th>Fruits</th>\n",
       "      <th>Veggies</th>\n",
       "      <th>HvyAlcoholConsump</th>\n",
       "      <th>GenHlth</th>\n",
       "      <th>MentHlth</th>\n",
       "      <th>PhysHlth</th>\n",
       "      <th>DiffWalk</th>\n",
       "      <th>Stroke</th>\n",
       "      <th>HighBP</th>\n",
       "      <th>Diabetes</th>\n",
       "    </tr>\n",
       "  </thead>\n",
       "  <tbody>\n",
       "    <tr>\n",
       "      <th>0</th>\n",
       "      <td>4.0</td>\n",
       "      <td>1.0</td>\n",
       "      <td>0.0</td>\n",
       "      <td>1.0</td>\n",
       "      <td>26.0</td>\n",
       "      <td>0.0</td>\n",
       "      <td>0.0</td>\n",
       "      <td>1.0</td>\n",
       "      <td>0.0</td>\n",
       "      <td>1.0</td>\n",
       "      <td>0.0</td>\n",
       "      <td>3.0</td>\n",
       "      <td>5.0</td>\n",
       "      <td>30.0</td>\n",
       "      <td>0.0</td>\n",
       "      <td>0.0</td>\n",
       "      <td>1.0</td>\n",
       "      <td>0.0</td>\n",
       "    </tr>\n",
       "    <tr>\n",
       "      <th>1</th>\n",
       "      <td>12.0</td>\n",
       "      <td>1.0</td>\n",
       "      <td>1.0</td>\n",
       "      <td>1.0</td>\n",
       "      <td>26.0</td>\n",
       "      <td>1.0</td>\n",
       "      <td>0.0</td>\n",
       "      <td>0.0</td>\n",
       "      <td>1.0</td>\n",
       "      <td>0.0</td>\n",
       "      <td>0.0</td>\n",
       "      <td>3.0</td>\n",
       "      <td>0.0</td>\n",
       "      <td>0.0</td>\n",
       "      <td>0.0</td>\n",
       "      <td>1.0</td>\n",
       "      <td>1.0</td>\n",
       "      <td>0.0</td>\n",
       "    </tr>\n",
       "    <tr>\n",
       "      <th>2</th>\n",
       "      <td>13.0</td>\n",
       "      <td>1.0</td>\n",
       "      <td>0.0</td>\n",
       "      <td>1.0</td>\n",
       "      <td>26.0</td>\n",
       "      <td>0.0</td>\n",
       "      <td>0.0</td>\n",
       "      <td>1.0</td>\n",
       "      <td>1.0</td>\n",
       "      <td>1.0</td>\n",
       "      <td>0.0</td>\n",
       "      <td>1.0</td>\n",
       "      <td>0.0</td>\n",
       "      <td>10.0</td>\n",
       "      <td>0.0</td>\n",
       "      <td>0.0</td>\n",
       "      <td>0.0</td>\n",
       "      <td>0.0</td>\n",
       "    </tr>\n",
       "    <tr>\n",
       "      <th>3</th>\n",
       "      <td>11.0</td>\n",
       "      <td>1.0</td>\n",
       "      <td>1.0</td>\n",
       "      <td>1.0</td>\n",
       "      <td>28.0</td>\n",
       "      <td>1.0</td>\n",
       "      <td>0.0</td>\n",
       "      <td>1.0</td>\n",
       "      <td>1.0</td>\n",
       "      <td>1.0</td>\n",
       "      <td>0.0</td>\n",
       "      <td>3.0</td>\n",
       "      <td>0.0</td>\n",
       "      <td>3.0</td>\n",
       "      <td>0.0</td>\n",
       "      <td>0.0</td>\n",
       "      <td>1.0</td>\n",
       "      <td>0.0</td>\n",
       "    </tr>\n",
       "    <tr>\n",
       "      <th>4</th>\n",
       "      <td>8.0</td>\n",
       "      <td>0.0</td>\n",
       "      <td>0.0</td>\n",
       "      <td>1.0</td>\n",
       "      <td>29.0</td>\n",
       "      <td>1.0</td>\n",
       "      <td>0.0</td>\n",
       "      <td>1.0</td>\n",
       "      <td>1.0</td>\n",
       "      <td>1.0</td>\n",
       "      <td>0.0</td>\n",
       "      <td>2.0</td>\n",
       "      <td>0.0</td>\n",
       "      <td>0.0</td>\n",
       "      <td>0.0</td>\n",
       "      <td>0.0</td>\n",
       "      <td>0.0</td>\n",
       "      <td>0.0</td>\n",
       "    </tr>\n",
       "  </tbody>\n",
       "</table>\n",
       "</div>"
      ],
      "text/plain": [
       "    Age  Sex  HighChol  CholCheck   BMI  Smoker  HeartDiseaseorAttack  \\\n",
       "0   4.0  1.0       0.0        1.0  26.0     0.0                   0.0   \n",
       "1  12.0  1.0       1.0        1.0  26.0     1.0                   0.0   \n",
       "2  13.0  1.0       0.0        1.0  26.0     0.0                   0.0   \n",
       "3  11.0  1.0       1.0        1.0  28.0     1.0                   0.0   \n",
       "4   8.0  0.0       0.0        1.0  29.0     1.0                   0.0   \n",
       "\n",
       "   PhysActivity  Fruits  Veggies  HvyAlcoholConsump  GenHlth  MentHlth  \\\n",
       "0           1.0     0.0      1.0                0.0      3.0       5.0   \n",
       "1           0.0     1.0      0.0                0.0      3.0       0.0   \n",
       "2           1.0     1.0      1.0                0.0      1.0       0.0   \n",
       "3           1.0     1.0      1.0                0.0      3.0       0.0   \n",
       "4           1.0     1.0      1.0                0.0      2.0       0.0   \n",
       "\n",
       "   PhysHlth  DiffWalk  Stroke  HighBP  Diabetes  \n",
       "0      30.0       0.0     0.0     1.0       0.0  \n",
       "1       0.0       0.0     1.0     1.0       0.0  \n",
       "2      10.0       0.0     0.0     0.0       0.0  \n",
       "3       3.0       0.0     0.0     1.0       0.0  \n",
       "4       0.0       0.0     0.0     0.0       0.0  "
      ]
     },
     "execution_count": 3,
     "metadata": {},
     "output_type": "execute_result"
    }
   ],
   "source": [
    "df=pd.read_csv('/kaggle/input/health-dataset/diabetes_data.csv')\n",
    "df.head()"
   ]
  },
  {
   "cell_type": "code",
   "execution_count": 4,
   "id": "2f4301ea",
   "metadata": {
    "execution": {
     "iopub.execute_input": "2022-12-16T06:32:01.222436Z",
     "iopub.status.busy": "2022-12-16T06:32:01.222041Z",
     "iopub.status.idle": "2022-12-16T06:32:01.335933Z",
     "shell.execute_reply": "2022-12-16T06:32:01.334846Z"
    },
    "papermill": {
     "duration": 0.122091,
     "end_time": "2022-12-16T06:32:01.338320",
     "exception": false,
     "start_time": "2022-12-16T06:32:01.216229",
     "status": "completed"
    },
    "tags": []
   },
   "outputs": [
    {
     "data": {
      "text/html": [
       "<div>\n",
       "<style scoped>\n",
       "    .dataframe tbody tr th:only-of-type {\n",
       "        vertical-align: middle;\n",
       "    }\n",
       "\n",
       "    .dataframe tbody tr th {\n",
       "        vertical-align: top;\n",
       "    }\n",
       "\n",
       "    .dataframe thead th {\n",
       "        text-align: right;\n",
       "    }\n",
       "</style>\n",
       "<table border=\"1\" class=\"dataframe\">\n",
       "  <thead>\n",
       "    <tr style=\"text-align: right;\">\n",
       "      <th></th>\n",
       "      <th>Age</th>\n",
       "      <th>Sex</th>\n",
       "      <th>HighChol</th>\n",
       "      <th>CholCheck</th>\n",
       "      <th>BMI</th>\n",
       "      <th>Smoker</th>\n",
       "      <th>HeartDiseaseorAttack</th>\n",
       "      <th>PhysActivity</th>\n",
       "      <th>Fruits</th>\n",
       "      <th>Veggies</th>\n",
       "      <th>HvyAlcoholConsump</th>\n",
       "      <th>GenHlth</th>\n",
       "      <th>MentHlth</th>\n",
       "      <th>PhysHlth</th>\n",
       "      <th>DiffWalk</th>\n",
       "      <th>Stroke</th>\n",
       "      <th>HighBP</th>\n",
       "      <th>Diabetes</th>\n",
       "    </tr>\n",
       "  </thead>\n",
       "  <tbody>\n",
       "    <tr>\n",
       "      <th>count</th>\n",
       "      <td>70692.000000</td>\n",
       "      <td>70692.000000</td>\n",
       "      <td>70692.000000</td>\n",
       "      <td>70692.000000</td>\n",
       "      <td>70692.000000</td>\n",
       "      <td>70692.000000</td>\n",
       "      <td>70692.000000</td>\n",
       "      <td>70692.000000</td>\n",
       "      <td>70692.000000</td>\n",
       "      <td>70692.000000</td>\n",
       "      <td>70692.000000</td>\n",
       "      <td>70692.000000</td>\n",
       "      <td>70692.000000</td>\n",
       "      <td>70692.000000</td>\n",
       "      <td>70692.000000</td>\n",
       "      <td>70692.000000</td>\n",
       "      <td>70692.000000</td>\n",
       "      <td>70692.000000</td>\n",
       "    </tr>\n",
       "    <tr>\n",
       "      <th>mean</th>\n",
       "      <td>8.584055</td>\n",
       "      <td>0.456997</td>\n",
       "      <td>0.525703</td>\n",
       "      <td>0.975259</td>\n",
       "      <td>29.856985</td>\n",
       "      <td>0.475273</td>\n",
       "      <td>0.147810</td>\n",
       "      <td>0.703036</td>\n",
       "      <td>0.611795</td>\n",
       "      <td>0.788774</td>\n",
       "      <td>0.042721</td>\n",
       "      <td>2.837082</td>\n",
       "      <td>3.752037</td>\n",
       "      <td>5.810417</td>\n",
       "      <td>0.252730</td>\n",
       "      <td>0.062171</td>\n",
       "      <td>0.563458</td>\n",
       "      <td>0.500000</td>\n",
       "    </tr>\n",
       "    <tr>\n",
       "      <th>std</th>\n",
       "      <td>2.852153</td>\n",
       "      <td>0.498151</td>\n",
       "      <td>0.499342</td>\n",
       "      <td>0.155336</td>\n",
       "      <td>7.113954</td>\n",
       "      <td>0.499392</td>\n",
       "      <td>0.354914</td>\n",
       "      <td>0.456924</td>\n",
       "      <td>0.487345</td>\n",
       "      <td>0.408181</td>\n",
       "      <td>0.202228</td>\n",
       "      <td>1.113565</td>\n",
       "      <td>8.155627</td>\n",
       "      <td>10.062261</td>\n",
       "      <td>0.434581</td>\n",
       "      <td>0.241468</td>\n",
       "      <td>0.495960</td>\n",
       "      <td>0.500004</td>\n",
       "    </tr>\n",
       "    <tr>\n",
       "      <th>min</th>\n",
       "      <td>1.000000</td>\n",
       "      <td>0.000000</td>\n",
       "      <td>0.000000</td>\n",
       "      <td>0.000000</td>\n",
       "      <td>12.000000</td>\n",
       "      <td>0.000000</td>\n",
       "      <td>0.000000</td>\n",
       "      <td>0.000000</td>\n",
       "      <td>0.000000</td>\n",
       "      <td>0.000000</td>\n",
       "      <td>0.000000</td>\n",
       "      <td>1.000000</td>\n",
       "      <td>0.000000</td>\n",
       "      <td>0.000000</td>\n",
       "      <td>0.000000</td>\n",
       "      <td>0.000000</td>\n",
       "      <td>0.000000</td>\n",
       "      <td>0.000000</td>\n",
       "    </tr>\n",
       "    <tr>\n",
       "      <th>25%</th>\n",
       "      <td>7.000000</td>\n",
       "      <td>0.000000</td>\n",
       "      <td>0.000000</td>\n",
       "      <td>1.000000</td>\n",
       "      <td>25.000000</td>\n",
       "      <td>0.000000</td>\n",
       "      <td>0.000000</td>\n",
       "      <td>0.000000</td>\n",
       "      <td>0.000000</td>\n",
       "      <td>1.000000</td>\n",
       "      <td>0.000000</td>\n",
       "      <td>2.000000</td>\n",
       "      <td>0.000000</td>\n",
       "      <td>0.000000</td>\n",
       "      <td>0.000000</td>\n",
       "      <td>0.000000</td>\n",
       "      <td>0.000000</td>\n",
       "      <td>0.000000</td>\n",
       "    </tr>\n",
       "    <tr>\n",
       "      <th>50%</th>\n",
       "      <td>9.000000</td>\n",
       "      <td>0.000000</td>\n",
       "      <td>1.000000</td>\n",
       "      <td>1.000000</td>\n",
       "      <td>29.000000</td>\n",
       "      <td>0.000000</td>\n",
       "      <td>0.000000</td>\n",
       "      <td>1.000000</td>\n",
       "      <td>1.000000</td>\n",
       "      <td>1.000000</td>\n",
       "      <td>0.000000</td>\n",
       "      <td>3.000000</td>\n",
       "      <td>0.000000</td>\n",
       "      <td>0.000000</td>\n",
       "      <td>0.000000</td>\n",
       "      <td>0.000000</td>\n",
       "      <td>1.000000</td>\n",
       "      <td>0.500000</td>\n",
       "    </tr>\n",
       "    <tr>\n",
       "      <th>75%</th>\n",
       "      <td>11.000000</td>\n",
       "      <td>1.000000</td>\n",
       "      <td>1.000000</td>\n",
       "      <td>1.000000</td>\n",
       "      <td>33.000000</td>\n",
       "      <td>1.000000</td>\n",
       "      <td>0.000000</td>\n",
       "      <td>1.000000</td>\n",
       "      <td>1.000000</td>\n",
       "      <td>1.000000</td>\n",
       "      <td>0.000000</td>\n",
       "      <td>4.000000</td>\n",
       "      <td>2.000000</td>\n",
       "      <td>6.000000</td>\n",
       "      <td>1.000000</td>\n",
       "      <td>0.000000</td>\n",
       "      <td>1.000000</td>\n",
       "      <td>1.000000</td>\n",
       "    </tr>\n",
       "    <tr>\n",
       "      <th>max</th>\n",
       "      <td>13.000000</td>\n",
       "      <td>1.000000</td>\n",
       "      <td>1.000000</td>\n",
       "      <td>1.000000</td>\n",
       "      <td>98.000000</td>\n",
       "      <td>1.000000</td>\n",
       "      <td>1.000000</td>\n",
       "      <td>1.000000</td>\n",
       "      <td>1.000000</td>\n",
       "      <td>1.000000</td>\n",
       "      <td>1.000000</td>\n",
       "      <td>5.000000</td>\n",
       "      <td>30.000000</td>\n",
       "      <td>30.000000</td>\n",
       "      <td>1.000000</td>\n",
       "      <td>1.000000</td>\n",
       "      <td>1.000000</td>\n",
       "      <td>1.000000</td>\n",
       "    </tr>\n",
       "  </tbody>\n",
       "</table>\n",
       "</div>"
      ],
      "text/plain": [
       "                Age           Sex      HighChol     CholCheck           BMI  \\\n",
       "count  70692.000000  70692.000000  70692.000000  70692.000000  70692.000000   \n",
       "mean       8.584055      0.456997      0.525703      0.975259     29.856985   \n",
       "std        2.852153      0.498151      0.499342      0.155336      7.113954   \n",
       "min        1.000000      0.000000      0.000000      0.000000     12.000000   \n",
       "25%        7.000000      0.000000      0.000000      1.000000     25.000000   \n",
       "50%        9.000000      0.000000      1.000000      1.000000     29.000000   \n",
       "75%       11.000000      1.000000      1.000000      1.000000     33.000000   \n",
       "max       13.000000      1.000000      1.000000      1.000000     98.000000   \n",
       "\n",
       "             Smoker  HeartDiseaseorAttack  PhysActivity        Fruits  \\\n",
       "count  70692.000000          70692.000000  70692.000000  70692.000000   \n",
       "mean       0.475273              0.147810      0.703036      0.611795   \n",
       "std        0.499392              0.354914      0.456924      0.487345   \n",
       "min        0.000000              0.000000      0.000000      0.000000   \n",
       "25%        0.000000              0.000000      0.000000      0.000000   \n",
       "50%        0.000000              0.000000      1.000000      1.000000   \n",
       "75%        1.000000              0.000000      1.000000      1.000000   \n",
       "max        1.000000              1.000000      1.000000      1.000000   \n",
       "\n",
       "            Veggies  HvyAlcoholConsump       GenHlth      MentHlth  \\\n",
       "count  70692.000000       70692.000000  70692.000000  70692.000000   \n",
       "mean       0.788774           0.042721      2.837082      3.752037   \n",
       "std        0.408181           0.202228      1.113565      8.155627   \n",
       "min        0.000000           0.000000      1.000000      0.000000   \n",
       "25%        1.000000           0.000000      2.000000      0.000000   \n",
       "50%        1.000000           0.000000      3.000000      0.000000   \n",
       "75%        1.000000           0.000000      4.000000      2.000000   \n",
       "max        1.000000           1.000000      5.000000     30.000000   \n",
       "\n",
       "           PhysHlth      DiffWalk        Stroke        HighBP      Diabetes  \n",
       "count  70692.000000  70692.000000  70692.000000  70692.000000  70692.000000  \n",
       "mean       5.810417      0.252730      0.062171      0.563458      0.500000  \n",
       "std       10.062261      0.434581      0.241468      0.495960      0.500004  \n",
       "min        0.000000      0.000000      0.000000      0.000000      0.000000  \n",
       "25%        0.000000      0.000000      0.000000      0.000000      0.000000  \n",
       "50%        0.000000      0.000000      0.000000      1.000000      0.500000  \n",
       "75%        6.000000      1.000000      0.000000      1.000000      1.000000  \n",
       "max       30.000000      1.000000      1.000000      1.000000      1.000000  "
      ]
     },
     "execution_count": 4,
     "metadata": {},
     "output_type": "execute_result"
    }
   ],
   "source": [
    "df.describe()"
   ]
  },
  {
   "cell_type": "code",
   "execution_count": 5,
   "id": "01e4eaca",
   "metadata": {
    "execution": {
     "iopub.execute_input": "2022-12-16T06:32:01.350262Z",
     "iopub.status.busy": "2022-12-16T06:32:01.349876Z",
     "iopub.status.idle": "2022-12-16T06:32:01.366657Z",
     "shell.execute_reply": "2022-12-16T06:32:01.365692Z"
    },
    "papermill": {
     "duration": 0.025553,
     "end_time": "2022-12-16T06:32:01.369161",
     "exception": false,
     "start_time": "2022-12-16T06:32:01.343608",
     "status": "completed"
    },
    "tags": []
   },
   "outputs": [
    {
     "name": "stdout",
     "output_type": "stream",
     "text": [
      "<class 'pandas.core.frame.DataFrame'>\n",
      "RangeIndex: 70692 entries, 0 to 70691\n",
      "Data columns (total 18 columns):\n",
      " #   Column                Non-Null Count  Dtype  \n",
      "---  ------                --------------  -----  \n",
      " 0   Age                   70692 non-null  float64\n",
      " 1   Sex                   70692 non-null  float64\n",
      " 2   HighChol              70692 non-null  float64\n",
      " 3   CholCheck             70692 non-null  float64\n",
      " 4   BMI                   70692 non-null  float64\n",
      " 5   Smoker                70692 non-null  float64\n",
      " 6   HeartDiseaseorAttack  70692 non-null  float64\n",
      " 7   PhysActivity          70692 non-null  float64\n",
      " 8   Fruits                70692 non-null  float64\n",
      " 9   Veggies               70692 non-null  float64\n",
      " 10  HvyAlcoholConsump     70692 non-null  float64\n",
      " 11  GenHlth               70692 non-null  float64\n",
      " 12  MentHlth              70692 non-null  float64\n",
      " 13  PhysHlth              70692 non-null  float64\n",
      " 14  DiffWalk              70692 non-null  float64\n",
      " 15  Stroke                70692 non-null  float64\n",
      " 16  HighBP                70692 non-null  float64\n",
      " 17  Diabetes              70692 non-null  float64\n",
      "dtypes: float64(18)\n",
      "memory usage: 9.7 MB\n"
     ]
    }
   ],
   "source": [
    "df.info()"
   ]
  },
  {
   "cell_type": "markdown",
   "id": "32d26566",
   "metadata": {
    "papermill": {
     "duration": 0.004893,
     "end_time": "2022-12-16T06:32:01.379374",
     "exception": false,
     "start_time": "2022-12-16T06:32:01.374481",
     "status": "completed"
    },
    "tags": []
   },
   "source": [
    "# Null HeatMap"
   ]
  },
  {
   "cell_type": "code",
   "execution_count": 6,
   "id": "2b4e08d2",
   "metadata": {
    "execution": {
     "iopub.execute_input": "2022-12-16T06:32:01.391171Z",
     "iopub.status.busy": "2022-12-16T06:32:01.390717Z",
     "iopub.status.idle": "2022-12-16T06:32:03.815438Z",
     "shell.execute_reply": "2022-12-16T06:32:03.814420Z"
    },
    "papermill": {
     "duration": 2.434069,
     "end_time": "2022-12-16T06:32:03.818522",
     "exception": false,
     "start_time": "2022-12-16T06:32:01.384453",
     "status": "completed"
    },
    "tags": []
   },
   "outputs": [
    {
     "data": {
      "text/plain": [
       "<AxesSubplot:>"
      ]
     },
     "execution_count": 6,
     "metadata": {},
     "output_type": "execute_result"
    },
    {
     "data": {
      "image/png": "[encoded data removed]",
      "text/plain": [
       "<Figure size 1080x432 with 2 Axes>"
      ]
     },
     "metadata": {
      "needs_background": "light"
     },
     "output_type": "display_data"
    }
   ],
   "source": [
    "plt.figure(figsize=(15,6))\n",
    "sns.heatmap(df.isna())"
   ]
  },
  {
   "cell_type": "markdown",
   "id": "63d2adb1",
   "metadata": {
    "papermill": {
     "duration": 0.006002,
     "end_time": "2022-12-16T06:32:03.830937",
     "exception": false,
     "start_time": "2022-12-16T06:32:03.824935",
     "status": "completed"
    },
    "tags": []
   },
   "source": [
    "**No Data Preprocessing (as of now)**"
   ]
  },
  {
   "cell_type": "markdown",
   "id": "104d7eb3",
   "metadata": {
    "papermill": {
     "duration": 0.005742,
     "end_time": "2022-12-16T06:32:03.843568",
     "exception": false,
     "start_time": "2022-12-16T06:32:03.837826",
     "status": "completed"
    },
    "tags": []
   },
   "source": [
    "# Train Test Split"
   ]
  },
  {
   "cell_type": "code",
   "execution_count": 7,
   "id": "14e5fd7a",
   "metadata": {
    "execution": {
     "iopub.execute_input": "2022-12-16T06:32:03.860181Z",
     "iopub.status.busy": "2022-12-16T06:32:03.859044Z",
     "iopub.status.idle": "2022-12-16T06:32:03.872280Z",
     "shell.execute_reply": "2022-12-16T06:32:03.868012Z"
    },
    "papermill": {
     "duration": 0.025267,
     "end_time": "2022-12-16T06:32:03.875690",
     "exception": false,
     "start_time": "2022-12-16T06:32:03.850423",
     "status": "completed"
    },
    "tags": []
   },
   "outputs": [],
   "source": [
    "X=df.drop(['Diabetes'],axis=1)\n",
    "y=df['Diabetes']"
   ]
  },
  {
   "cell_type": "code",
   "execution_count": 8,
   "id": "f25c0f5d",
   "metadata": {
    "execution": {
     "iopub.execute_input": "2022-12-16T06:32:03.894062Z",
     "iopub.status.busy": "2022-12-16T06:32:03.893339Z",
     "iopub.status.idle": "2022-12-16T06:32:03.935015Z",
     "shell.execute_reply": "2022-12-16T06:32:03.934184Z"
    },
    "papermill": {
     "duration": 0.053963,
     "end_time": "2022-12-16T06:32:03.937611",
     "exception": false,
     "start_time": "2022-12-16T06:32:03.883648",
     "status": "completed"
    },
    "tags": []
   },
   "outputs": [],
   "source": [
    "X_train,X_test,y_train,y_test=train_test_split(X,y,test_size=0.2,random_state=42,stratify=y)"
   ]
  },
  {
   "cell_type": "markdown",
   "id": "d4bc2f7e",
   "metadata": {
    "papermill": {
     "duration": 0.005862,
     "end_time": "2022-12-16T06:32:03.949550",
     "exception": false,
     "start_time": "2022-12-16T06:32:03.943688",
     "status": "completed"
    },
    "tags": []
   },
   "source": [
    "# Model fitting"
   ]
  },
  {
   "cell_type": "code",
   "execution_count": 9,
   "id": "dbe407b4",
   "metadata": {
    "execution": {
     "iopub.execute_input": "2022-12-16T06:32:03.963353Z",
     "iopub.status.busy": "2022-12-16T06:32:03.962958Z",
     "iopub.status.idle": "2022-12-16T06:32:04.141317Z",
     "shell.execute_reply": "2022-12-16T06:32:04.140187Z"
    },
    "papermill": {
     "duration": 0.188592,
     "end_time": "2022-12-16T06:32:04.144044",
     "exception": false,
     "start_time": "2022-12-16T06:32:03.955452",
     "status": "completed"
    },
    "tags": []
   },
   "outputs": [],
   "source": [
    "from sklearn.linear_model import SGDClassifier,LogisticRegressionCV\n",
    "\n",
    "from sklearn.svm import SVC\n",
    "\n",
    "from sklearn.tree import DecisionTreeClassifier,ExtraTreeClassifier\n",
    "\n",
    "from sklearn.ensemble import RandomForestClassifier,GradientBoostingClassifier"
   ]
  },
  {
   "cell_type": "code",
   "execution_count": 10,
   "id": "e57b4f24",
   "metadata": {
    "execution": {
     "iopub.execute_input": "2022-12-16T06:32:04.158940Z",
     "iopub.status.busy": "2022-12-16T06:32:04.158370Z",
     "iopub.status.idle": "2022-12-16T06:32:04.164582Z",
     "shell.execute_reply": "2022-12-16T06:32:04.163742Z"
    },
    "papermill": {
     "duration": 0.015419,
     "end_time": "2022-12-16T06:32:04.166669",
     "exception": false,
     "start_time": "2022-12-16T06:32:04.151250",
     "status": "completed"
    },
    "tags": []
   },
   "outputs": [],
   "source": [
    "clf_1 = LogisticRegressionCV(n_jobs=-1,cv=3,max_iter=2000)\n",
    "\n",
    "clf_2 = SVC()\n",
    "\n",
    "clf_3 = DecisionTreeClassifier()\n",
    "clf_4 = ExtraTreeClassifier()\n",
    "\n",
    "clf_5 = RandomForestClassifier(n_jobs=-1)\n",
    "clf_6 = GradientBoostingClassifier() \n",
    "\n",
    "\n",
    "clf_list=[clf_1,clf_2,clf_3,clf_4,clf_5,clf_6]"
   ]
  },
  {
   "cell_type": "code",
   "execution_count": 11,
   "id": "3cc3134c",
   "metadata": {
    "execution": {
     "iopub.execute_input": "2022-12-16T06:32:04.180240Z",
     "iopub.status.busy": "2022-12-16T06:32:04.179683Z",
     "iopub.status.idle": "2022-12-16T06:34:27.119826Z",
     "shell.execute_reply": "2022-12-16T06:34:27.118070Z"
    },
    "papermill": {
     "duration": 142.950349,
     "end_time": "2022-12-16T06:34:27.122986",
     "exception": false,
     "start_time": "2022-12-16T06:32:04.172637",
     "status": "completed"
    },
    "tags": []
   },
   "outputs": [
    {
     "name": "stdout",
     "output_type": "stream",
     "text": [
      "LogisticRegressionCV done\n",
      "----------------------------------------------------------------------------------------------------\n",
      "SVC done\n",
      "----------------------------------------------------------------------------------------------------\n",
      "DecisionTreeClassifier done\n",
      "----------------------------------------------------------------------------------------------------\n",
      "ExtraTreeClassifier done\n",
      "----------------------------------------------------------------------------------------------------\n",
      "RandomForestClassifier done\n",
      "----------------------------------------------------------------------------------------------------\n",
      "GradientBoostingClassifier done\n",
      "----------------------------------------------------------------------------------------------------\n"
     ]
    }
   ],
   "source": [
    "for clf in clf_list:\n",
    "    clf.fit(X_train,y_train.values.ravel())\n",
    "    print(clf.__class__.__name__,\"done\")\n",
    "    print('-'*100)"
   ]
  },
  {
   "cell_type": "code",
   "execution_count": 12,
   "id": "029bb2e7",
   "metadata": {
    "execution": {
     "iopub.execute_input": "2022-12-16T06:34:27.139075Z",
     "iopub.status.busy": "2022-12-16T06:34:27.137999Z",
     "iopub.status.idle": "2022-12-16T06:34:56.665297Z",
     "shell.execute_reply": "2022-12-16T06:34:56.664065Z"
    },
    "papermill": {
     "duration": 29.538183,
     "end_time": "2022-12-16T06:34:56.667849",
     "exception": false,
     "start_time": "2022-12-16T06:34:27.129666",
     "status": "completed"
    },
    "tags": []
   },
   "outputs": [
    {
     "name": "stdout",
     "output_type": "stream",
     "text": [
      "--------------------------------------------------------------------------------\n",
      "LogisticRegressionCV\n",
      "              precision    recall  f1-score   support\n",
      "\n",
      "         0.0       0.75      0.73      0.74      7070\n",
      "         1.0       0.74      0.76      0.75      7069\n",
      "\n",
      "    accuracy                           0.75     14139\n",
      "   macro avg       0.75      0.75      0.75     14139\n",
      "weighted avg       0.75      0.75      0.75     14139\n",
      "\n",
      "--------------------------------------------------------------------------------\n",
      "SVC\n",
      "              precision    recall  f1-score   support\n",
      "\n",
      "         0.0       0.78      0.68      0.73      7070\n",
      "         1.0       0.72      0.80      0.76      7069\n",
      "\n",
      "    accuracy                           0.74     14139\n",
      "   macro avg       0.75      0.74      0.74     14139\n",
      "weighted avg       0.75      0.74      0.74     14139\n",
      "\n",
      "--------------------------------------------------------------------------------\n",
      "DecisionTreeClassifier\n",
      "              precision    recall  f1-score   support\n",
      "\n",
      "         0.0       0.65      0.68      0.67      7070\n",
      "         1.0       0.67      0.64      0.65      7069\n",
      "\n",
      "    accuracy                           0.66     14139\n",
      "   macro avg       0.66      0.66      0.66     14139\n",
      "weighted avg       0.66      0.66      0.66     14139\n",
      "\n",
      "--------------------------------------------------------------------------------\n",
      "ExtraTreeClassifier\n",
      "              precision    recall  f1-score   support\n",
      "\n",
      "         0.0       0.66      0.68      0.67      7070\n",
      "         1.0       0.67      0.65      0.66      7069\n",
      "\n",
      "    accuracy                           0.67     14139\n",
      "   macro avg       0.67      0.67      0.67     14139\n",
      "weighted avg       0.67      0.67      0.67     14139\n",
      "\n",
      "--------------------------------------------------------------------------------\n",
      "RandomForestClassifier\n",
      "              precision    recall  f1-score   support\n",
      "\n",
      "         0.0       0.74      0.69      0.71      7070\n",
      "         1.0       0.71      0.76      0.73      7069\n",
      "\n",
      "    accuracy                           0.72     14139\n",
      "   macro avg       0.72      0.72      0.72     14139\n",
      "weighted avg       0.72      0.72      0.72     14139\n",
      "\n",
      "--------------------------------------------------------------------------------\n",
      "GradientBoostingClassifier\n",
      "              precision    recall  f1-score   support\n",
      "\n",
      "         0.0       0.78      0.71      0.74      7070\n",
      "         1.0       0.73      0.80      0.76      7069\n",
      "\n",
      "    accuracy                           0.75     14139\n",
      "   macro avg       0.75      0.75      0.75     14139\n",
      "weighted avg       0.75      0.75      0.75     14139\n",
      "\n"
     ]
    }
   ],
   "source": [
    "for clf in clf_list:\n",
    "        \n",
    "    pred=clf.predict(X_test)\n",
    "    \n",
    "    print(\"-\"*80)\n",
    "    \n",
    "    print(clf.__class__.__name__)\n",
    "    \n",
    "    print(classification_report(y_test.values,pred))"
   ]
  }
 ],
 "metadata": {
  "kernelspec": {
   "display_name": "Python 3",
   "language": "python",
   "name": "python3"
  },
  "language_info": {
   "codemirror_mode": {
    "name": "ipython",
    "version": 3
   },
   "file_extension": ".py",
   "mimetype": "text/x-python",
   "name": "python",
   "nbconvert_exporter": "python",
   "pygments_lexer": "ipython3",
   "version": "3.7.12"
  },
  "papermill": {
   "default_parameters": {},
   "duration": 187.519902,
   "end_time": "2022-12-16T06:34:59.298230",
   "environment_variables": {},
   "exception": null,
   "input_path": "__notebook__.ipynb",
   "output_path": "__notebook__.ipynb",
   "parameters": {},
   "start_time": "2022-12-16T06:31:51.778328",
   "version": "2.3.4"
  }
 },
 "nbformat": 4,
 "nbformat_minor": 5
}
